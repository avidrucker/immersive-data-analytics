{
 "cells": [
  {
   "cell_type": "markdown",
   "metadata": {},
   "source": [
    "Use the D.C. Residential Properties dataset (https://www.kaggle.com/christophercorrea/dc-residential-properties) from Kaggle to re-scale the \"price\" column using both z-score standardization and Min-max scaling.\n",
    "\n",
    "HINTS: Replace or remove the missing values in the data.\n",
    "\n",
    "Upload your notebook to your Github repository and submit the URL for this assignment."
   ]
  },
  {
   "cell_type": "code",
   "execution_count": 45,
   "metadata": {},
   "outputs": [],
   "source": [
    "import pandas as pd\n",
    "\n",
    "#preprocessing functions will be used to standardize/normalize data\n",
    "from sklearn import preprocessing\n",
    "from sklearn.preprocessing import StandardScaler\n",
    "from sklearn.preprocessing import MinMaxScaler\n",
    "\n",
    "%matplotlib inline"
   ]
  },
  {
   "cell_type": "code",
   "execution_count": 46,
   "metadata": {},
   "outputs": [
    {
     "name": "stderr",
     "output_type": "stream",
     "text": [
      "/home/avi/anaconda3/lib/python3.7/site-packages/IPython/core/interactiveshell.py:3020: DtypeWarning: Columns (18,19,20,21,22,23,24,33,34,35,37,43,45) have mixed types. Specify dtype option on import or set low_memory=False.\n",
      "  interactivity=interactivity, compiler=compiler, result=result)\n"
     ]
    },
    {
     "data": {
      "text/html": [
       "<div>\n",
       "<style scoped>\n",
       "    .dataframe tbody tr th:only-of-type {\n",
       "        vertical-align: middle;\n",
       "    }\n",
       "\n",
       "    .dataframe tbody tr th {\n",
       "        vertical-align: top;\n",
       "    }\n",
       "\n",
       "    .dataframe thead th {\n",
       "        text-align: right;\n",
       "    }\n",
       "</style>\n",
       "<table border=\"1\" class=\"dataframe\">\n",
       "  <thead>\n",
       "    <tr style=\"text-align: right;\">\n",
       "      <th></th>\n",
       "      <th>Unnamed: 0</th>\n",
       "      <th>BATHRM</th>\n",
       "      <th>HF_BATHRM</th>\n",
       "      <th>HEAT</th>\n",
       "      <th>AC</th>\n",
       "      <th>NUM_UNITS</th>\n",
       "      <th>ROOMS</th>\n",
       "      <th>BEDRM</th>\n",
       "      <th>AYB</th>\n",
       "      <th>YR_RMDL</th>\n",
       "      <th>...</th>\n",
       "      <th>LONGITUDE</th>\n",
       "      <th>ASSESSMENT_NBHD</th>\n",
       "      <th>ASSESSMENT_SUBNBHD</th>\n",
       "      <th>CENSUS_TRACT</th>\n",
       "      <th>CENSUS_BLOCK</th>\n",
       "      <th>WARD</th>\n",
       "      <th>SQUARE</th>\n",
       "      <th>X</th>\n",
       "      <th>Y</th>\n",
       "      <th>QUADRANT</th>\n",
       "    </tr>\n",
       "  </thead>\n",
       "  <tbody>\n",
       "    <tr>\n",
       "      <th>0</th>\n",
       "      <td>0</td>\n",
       "      <td>4</td>\n",
       "      <td>0</td>\n",
       "      <td>Warm Cool</td>\n",
       "      <td>Y</td>\n",
       "      <td>2.0</td>\n",
       "      <td>8</td>\n",
       "      <td>4</td>\n",
       "      <td>1910.0</td>\n",
       "      <td>1988.0</td>\n",
       "      <td>...</td>\n",
       "      <td>-77.040832</td>\n",
       "      <td>Old City 2</td>\n",
       "      <td>040 D Old City 2</td>\n",
       "      <td>4201.0</td>\n",
       "      <td>004201 2006</td>\n",
       "      <td>Ward 2</td>\n",
       "      <td>152</td>\n",
       "      <td>-77.040429</td>\n",
       "      <td>38.914881</td>\n",
       "      <td>NW</td>\n",
       "    </tr>\n",
       "    <tr>\n",
       "      <th>1</th>\n",
       "      <td>1</td>\n",
       "      <td>3</td>\n",
       "      <td>1</td>\n",
       "      <td>Warm Cool</td>\n",
       "      <td>Y</td>\n",
       "      <td>2.0</td>\n",
       "      <td>11</td>\n",
       "      <td>5</td>\n",
       "      <td>1898.0</td>\n",
       "      <td>2007.0</td>\n",
       "      <td>...</td>\n",
       "      <td>-77.040764</td>\n",
       "      <td>Old City 2</td>\n",
       "      <td>040 D Old City 2</td>\n",
       "      <td>4201.0</td>\n",
       "      <td>004201 2006</td>\n",
       "      <td>Ward 2</td>\n",
       "      <td>152</td>\n",
       "      <td>-77.040429</td>\n",
       "      <td>38.914881</td>\n",
       "      <td>NW</td>\n",
       "    </tr>\n",
       "    <tr>\n",
       "      <th>2</th>\n",
       "      <td>2</td>\n",
       "      <td>3</td>\n",
       "      <td>1</td>\n",
       "      <td>Hot Water Rad</td>\n",
       "      <td>Y</td>\n",
       "      <td>2.0</td>\n",
       "      <td>9</td>\n",
       "      <td>5</td>\n",
       "      <td>1910.0</td>\n",
       "      <td>2009.0</td>\n",
       "      <td>...</td>\n",
       "      <td>-77.040678</td>\n",
       "      <td>Old City 2</td>\n",
       "      <td>040 D Old City 2</td>\n",
       "      <td>4201.0</td>\n",
       "      <td>004201 2006</td>\n",
       "      <td>Ward 2</td>\n",
       "      <td>152</td>\n",
       "      <td>-77.040429</td>\n",
       "      <td>38.914881</td>\n",
       "      <td>NW</td>\n",
       "    </tr>\n",
       "    <tr>\n",
       "      <th>3</th>\n",
       "      <td>3</td>\n",
       "      <td>3</td>\n",
       "      <td>1</td>\n",
       "      <td>Hot Water Rad</td>\n",
       "      <td>Y</td>\n",
       "      <td>2.0</td>\n",
       "      <td>8</td>\n",
       "      <td>5</td>\n",
       "      <td>1900.0</td>\n",
       "      <td>2003.0</td>\n",
       "      <td>...</td>\n",
       "      <td>-77.040629</td>\n",
       "      <td>Old City 2</td>\n",
       "      <td>040 D Old City 2</td>\n",
       "      <td>4201.0</td>\n",
       "      <td>004201 2006</td>\n",
       "      <td>Ward 2</td>\n",
       "      <td>152</td>\n",
       "      <td>-77.040429</td>\n",
       "      <td>38.914881</td>\n",
       "      <td>NW</td>\n",
       "    </tr>\n",
       "    <tr>\n",
       "      <th>4</th>\n",
       "      <td>4</td>\n",
       "      <td>2</td>\n",
       "      <td>1</td>\n",
       "      <td>Warm Cool</td>\n",
       "      <td>Y</td>\n",
       "      <td>1.0</td>\n",
       "      <td>11</td>\n",
       "      <td>3</td>\n",
       "      <td>1913.0</td>\n",
       "      <td>2012.0</td>\n",
       "      <td>...</td>\n",
       "      <td>-77.039361</td>\n",
       "      <td>Old City 2</td>\n",
       "      <td>040 D Old City 2</td>\n",
       "      <td>4201.0</td>\n",
       "      <td>004201 2006</td>\n",
       "      <td>Ward 2</td>\n",
       "      <td>152</td>\n",
       "      <td>-77.040429</td>\n",
       "      <td>38.914881</td>\n",
       "      <td>NW</td>\n",
       "    </tr>\n",
       "  </tbody>\n",
       "</table>\n",
       "<p>5 rows × 49 columns</p>\n",
       "</div>"
      ],
      "text/plain": [
       "   Unnamed: 0  BATHRM  HF_BATHRM           HEAT AC  NUM_UNITS  ROOMS  BEDRM  \\\n",
       "0           0       4          0      Warm Cool  Y        2.0      8      4   \n",
       "1           1       3          1      Warm Cool  Y        2.0     11      5   \n",
       "2           2       3          1  Hot Water Rad  Y        2.0      9      5   \n",
       "3           3       3          1  Hot Water Rad  Y        2.0      8      5   \n",
       "4           4       2          1      Warm Cool  Y        1.0     11      3   \n",
       "\n",
       "      AYB  YR_RMDL   ...     LONGITUDE  ASSESSMENT_NBHD ASSESSMENT_SUBNBHD  \\\n",
       "0  1910.0   1988.0   ...    -77.040832       Old City 2   040 D Old City 2   \n",
       "1  1898.0   2007.0   ...    -77.040764       Old City 2   040 D Old City 2   \n",
       "2  1910.0   2009.0   ...    -77.040678       Old City 2   040 D Old City 2   \n",
       "3  1900.0   2003.0   ...    -77.040629       Old City 2   040 D Old City 2   \n",
       "4  1913.0   2012.0   ...    -77.039361       Old City 2   040 D Old City 2   \n",
       "\n",
       "   CENSUS_TRACT CENSUS_BLOCK    WARD  SQUARE          X          Y QUADRANT  \n",
       "0        4201.0  004201 2006  Ward 2     152 -77.040429  38.914881       NW  \n",
       "1        4201.0  004201 2006  Ward 2     152 -77.040429  38.914881       NW  \n",
       "2        4201.0  004201 2006  Ward 2     152 -77.040429  38.914881       NW  \n",
       "3        4201.0  004201 2006  Ward 2     152 -77.040429  38.914881       NW  \n",
       "4        4201.0  004201 2006  Ward 2     152 -77.040429  38.914881       NW  \n",
       "\n",
       "[5 rows x 49 columns]"
      ]
     },
     "execution_count": 46,
     "metadata": {},
     "output_type": "execute_result"
    }
   ],
   "source": [
    "filepath = \"datasets/DC_Properties.csv\"\n",
    "\n",
    "df = pd.read_csv(filepath)\n",
    "df.head()"
   ]
  },
  {
   "cell_type": "code",
   "execution_count": 47,
   "metadata": {},
   "outputs": [
    {
     "data": {
      "text/plain": [
       "Unnamed: 0            158957\n",
       "BATHRM                158957\n",
       "HF_BATHRM             158957\n",
       "HEAT                  158957\n",
       "AC                    158957\n",
       "NUM_UNITS             106696\n",
       "ROOMS                 158957\n",
       "BEDRM                 158957\n",
       "AYB                   158686\n",
       "YR_RMDL                80928\n",
       "EYB                   158957\n",
       "STORIES               106652\n",
       "SALEDATE              132187\n",
       "PRICE                  98216\n",
       "QUALIFIED             158957\n",
       "SALE_NUM              158957\n",
       "GBA                   106696\n",
       "BLDG_NUM              158957\n",
       "STYLE                 106696\n",
       "STRUCT                106696\n",
       "GRADE                 106696\n",
       "CNDTN                 106696\n",
       "EXTWALL               106696\n",
       "ROOF                  106696\n",
       "INTWALL               106696\n",
       "KITCHENS              106695\n",
       "FIREPLACES            158957\n",
       "USECODE               158957\n",
       "LANDAREA              158957\n",
       "GIS_LAST_MOD_DTTM     158957\n",
       "SOURCE                158957\n",
       "CMPLX_NUM              52261\n",
       "LIVING_GBA             52261\n",
       "FULLADDRESS           106040\n",
       "CITY                  106051\n",
       "STATE                 106051\n",
       "ZIPCODE               158956\n",
       "NATIONALGRID          106051\n",
       "LATITUDE              158956\n",
       "LONGITUDE             158956\n",
       "ASSESSMENT_NBHD       158956\n",
       "ASSESSMENT_SUBNBHD    126406\n",
       "CENSUS_TRACT          158956\n",
       "CENSUS_BLOCK          106051\n",
       "WARD                  158956\n",
       "SQUARE                158957\n",
       "X                     158720\n",
       "Y                     158720\n",
       "QUADRANT              158720\n",
       "dtype: int64"
      ]
     },
     "execution_count": 47,
     "metadata": {},
     "output_type": "execute_result"
    }
   ],
   "source": [
    "#check if any missing values in the data\n",
    "df.count()"
   ]
  },
  {
   "cell_type": "code",
   "execution_count": 48,
   "metadata": {},
   "outputs": [],
   "source": [
    "df1 = df.copy()\n",
    "df1 = df1.dropna(subset=['PRICE'])"
   ]
  },
  {
   "cell_type": "code",
   "execution_count": 49,
   "metadata": {},
   "outputs": [
    {
     "data": {
      "text/plain": [
       "Index(['Unnamed: 0', 'BATHRM', 'HF_BATHRM', 'HEAT', 'AC', 'NUM_UNITS', 'ROOMS',\n",
       "       'BEDRM', 'AYB', 'YR_RMDL', 'EYB', 'STORIES', 'SALEDATE', 'PRICE',\n",
       "       'QUALIFIED', 'SALE_NUM', 'GBA', 'BLDG_NUM', 'STYLE', 'STRUCT', 'GRADE',\n",
       "       'CNDTN', 'EXTWALL', 'ROOF', 'INTWALL', 'KITCHENS', 'FIREPLACES',\n",
       "       'USECODE', 'LANDAREA', 'GIS_LAST_MOD_DTTM', 'SOURCE', 'CMPLX_NUM',\n",
       "       'LIVING_GBA', 'FULLADDRESS', 'CITY', 'STATE', 'ZIPCODE', 'NATIONALGRID',\n",
       "       'LATITUDE', 'LONGITUDE', 'ASSESSMENT_NBHD', 'ASSESSMENT_SUBNBHD',\n",
       "       'CENSUS_TRACT', 'CENSUS_BLOCK', 'WARD', 'SQUARE', 'X', 'Y', 'QUADRANT'],\n",
       "      dtype='object')"
      ]
     },
     "execution_count": 49,
     "metadata": {},
     "output_type": "execute_result"
    }
   ],
   "source": [
    "df1.columns"
   ]
  },
  {
   "cell_type": "code",
   "execution_count": 50,
   "metadata": {},
   "outputs": [],
   "source": [
    "df1 = df1.drop('Unnamed: 0', axis=1)"
   ]
  },
  {
   "cell_type": "code",
   "execution_count": 51,
   "metadata": {},
   "outputs": [
    {
     "data": {
      "text/plain": [
       "BATHRM                98216\n",
       "HF_BATHRM             98216\n",
       "HEAT                  98216\n",
       "AC                    98216\n",
       "NUM_UNITS             57900\n",
       "ROOMS                 98216\n",
       "BEDRM                 98216\n",
       "AYB                   98104\n",
       "YR_RMDL               57674\n",
       "EYB                   98216\n",
       "STORIES               57867\n",
       "SALEDATE              98215\n",
       "PRICE                 98216\n",
       "QUALIFIED             98216\n",
       "SALE_NUM              98216\n",
       "GBA                   57900\n",
       "BLDG_NUM              98216\n",
       "STYLE                 57900\n",
       "STRUCT                57900\n",
       "GRADE                 57900\n",
       "CNDTN                 57900\n",
       "EXTWALL               57900\n",
       "ROOF                  57900\n",
       "INTWALL               57900\n",
       "KITCHENS              57899\n",
       "FIREPLACES            98216\n",
       "USECODE               98216\n",
       "LANDAREA              98216\n",
       "GIS_LAST_MOD_DTTM     98216\n",
       "SOURCE                98216\n",
       "CMPLX_NUM             40316\n",
       "LIVING_GBA            40316\n",
       "FULLADDRESS           57565\n",
       "CITY                  57569\n",
       "STATE                 57569\n",
       "ZIPCODE               98216\n",
       "NATIONALGRID          57569\n",
       "LATITUDE              98216\n",
       "LONGITUDE             98216\n",
       "ASSESSMENT_NBHD       98216\n",
       "ASSESSMENT_SUBNBHD    77961\n",
       "CENSUS_TRACT          98216\n",
       "CENSUS_BLOCK          57569\n",
       "WARD                  98216\n",
       "SQUARE                98216\n",
       "X                     98115\n",
       "Y                     98115\n",
       "QUADRANT              98115\n",
       "dtype: int64"
      ]
     },
     "execution_count": 51,
     "metadata": {},
     "output_type": "execute_result"
    }
   ],
   "source": [
    "df1.count()"
   ]
  },
  {
   "cell_type": "code",
   "execution_count": 52,
   "metadata": {},
   "outputs": [
    {
     "data": {
      "text/html": [
       "<div>\n",
       "<style scoped>\n",
       "    .dataframe tbody tr th:only-of-type {\n",
       "        vertical-align: middle;\n",
       "    }\n",
       "\n",
       "    .dataframe tbody tr th {\n",
       "        vertical-align: top;\n",
       "    }\n",
       "\n",
       "    .dataframe thead th {\n",
       "        text-align: right;\n",
       "    }\n",
       "</style>\n",
       "<table border=\"1\" class=\"dataframe\">\n",
       "  <thead>\n",
       "    <tr style=\"text-align: right;\">\n",
       "      <th></th>\n",
       "      <th>BATHRM</th>\n",
       "      <th>HF_BATHRM</th>\n",
       "      <th>NUM_UNITS</th>\n",
       "      <th>ROOMS</th>\n",
       "      <th>BEDRM</th>\n",
       "      <th>AYB</th>\n",
       "      <th>YR_RMDL</th>\n",
       "      <th>EYB</th>\n",
       "      <th>STORIES</th>\n",
       "      <th>PRICE</th>\n",
       "      <th>...</th>\n",
       "      <th>USECODE</th>\n",
       "      <th>LANDAREA</th>\n",
       "      <th>CMPLX_NUM</th>\n",
       "      <th>LIVING_GBA</th>\n",
       "      <th>ZIPCODE</th>\n",
       "      <th>LATITUDE</th>\n",
       "      <th>LONGITUDE</th>\n",
       "      <th>CENSUS_TRACT</th>\n",
       "      <th>X</th>\n",
       "      <th>Y</th>\n",
       "    </tr>\n",
       "  </thead>\n",
       "  <tbody>\n",
       "    <tr>\n",
       "      <th>count</th>\n",
       "      <td>98216.000000</td>\n",
       "      <td>98216.000000</td>\n",
       "      <td>57900.000000</td>\n",
       "      <td>98216.000000</td>\n",
       "      <td>98216.000000</td>\n",
       "      <td>98104.000000</td>\n",
       "      <td>57674.000000</td>\n",
       "      <td>98216.000000</td>\n",
       "      <td>57867.000000</td>\n",
       "      <td>9.821600e+04</td>\n",
       "      <td>...</td>\n",
       "      <td>98216.000000</td>\n",
       "      <td>98216.000000</td>\n",
       "      <td>40316.000000</td>\n",
       "      <td>40316.000000</td>\n",
       "      <td>98216.000000</td>\n",
       "      <td>98216.000000</td>\n",
       "      <td>98216.000000</td>\n",
       "      <td>98216.000000</td>\n",
       "      <td>98115.000000</td>\n",
       "      <td>98115.000000</td>\n",
       "    </tr>\n",
       "    <tr>\n",
       "      <th>mean</th>\n",
       "      <td>1.859157</td>\n",
       "      <td>0.444541</td>\n",
       "      <td>1.221071</td>\n",
       "      <td>5.921836</td>\n",
       "      <td>2.606480</td>\n",
       "      <td>1944.903888</td>\n",
       "      <td>2000.666748</td>\n",
       "      <td>1965.759876</td>\n",
       "      <td>2.124667</td>\n",
       "      <td>9.313516e+05</td>\n",
       "      <td>...</td>\n",
       "      <td>14.613393</td>\n",
       "      <td>2084.296123</td>\n",
       "      <td>2442.438337</td>\n",
       "      <td>882.090907</td>\n",
       "      <td>20012.303525</td>\n",
       "      <td>38.913911</td>\n",
       "      <td>-77.018076</td>\n",
       "      <td>5289.710220</td>\n",
       "      <td>-77.018101</td>\n",
       "      <td>38.913903</td>\n",
       "    </tr>\n",
       "    <tr>\n",
       "      <th>std</th>\n",
       "      <td>0.978321</td>\n",
       "      <td>0.576217</td>\n",
       "      <td>0.623997</td>\n",
       "      <td>2.637816</td>\n",
       "      <td>1.393801</td>\n",
       "      <td>36.254098</td>\n",
       "      <td>16.136807</td>\n",
       "      <td>27.500116</td>\n",
       "      <td>3.948764</td>\n",
       "      <td>7.061325e+06</td>\n",
       "      <td>...</td>\n",
       "      <td>3.683449</td>\n",
       "      <td>2765.429658</td>\n",
       "      <td>1136.998556</td>\n",
       "      <td>406.013673</td>\n",
       "      <td>16.326982</td>\n",
       "      <td>0.030185</td>\n",
       "      <td>0.039794</td>\n",
       "      <td>3288.288804</td>\n",
       "      <td>0.039786</td>\n",
       "      <td>0.030161</td>\n",
       "    </tr>\n",
       "    <tr>\n",
       "      <th>min</th>\n",
       "      <td>0.000000</td>\n",
       "      <td>0.000000</td>\n",
       "      <td>0.000000</td>\n",
       "      <td>0.000000</td>\n",
       "      <td>0.000000</td>\n",
       "      <td>1754.000000</td>\n",
       "      <td>20.000000</td>\n",
       "      <td>1800.000000</td>\n",
       "      <td>0.000000</td>\n",
       "      <td>1.000000e+00</td>\n",
       "      <td>...</td>\n",
       "      <td>11.000000</td>\n",
       "      <td>0.000000</td>\n",
       "      <td>1001.000000</td>\n",
       "      <td>199.000000</td>\n",
       "      <td>20001.000000</td>\n",
       "      <td>38.819731</td>\n",
       "      <td>-77.113909</td>\n",
       "      <td>100.000000</td>\n",
       "      <td>-77.113135</td>\n",
       "      <td>38.820576</td>\n",
       "    </tr>\n",
       "    <tr>\n",
       "      <th>25%</th>\n",
       "      <td>1.000000</td>\n",
       "      <td>0.000000</td>\n",
       "      <td>1.000000</td>\n",
       "      <td>4.000000</td>\n",
       "      <td>2.000000</td>\n",
       "      <td>1917.000000</td>\n",
       "      <td>1991.000000</td>\n",
       "      <td>1954.000000</td>\n",
       "      <td>2.000000</td>\n",
       "      <td>2.400000e+05</td>\n",
       "      <td>...</td>\n",
       "      <td>11.000000</td>\n",
       "      <td>482.000000</td>\n",
       "      <td>1586.750000</td>\n",
       "      <td>619.000000</td>\n",
       "      <td>20005.000000</td>\n",
       "      <td>38.895973</td>\n",
       "      <td>-77.042758</td>\n",
       "      <td>2201.000000</td>\n",
       "      <td>-77.042768</td>\n",
       "      <td>38.895753</td>\n",
       "    </tr>\n",
       "    <tr>\n",
       "      <th>50%</th>\n",
       "      <td>2.000000</td>\n",
       "      <td>0.000000</td>\n",
       "      <td>1.000000</td>\n",
       "      <td>6.000000</td>\n",
       "      <td>3.000000</td>\n",
       "      <td>1939.000000</td>\n",
       "      <td>2005.000000</td>\n",
       "      <td>1965.000000</td>\n",
       "      <td>2.000000</td>\n",
       "      <td>3.999990e+05</td>\n",
       "      <td>...</td>\n",
       "      <td>13.000000</td>\n",
       "      <td>1380.000000</td>\n",
       "      <td>2282.000000</td>\n",
       "      <td>781.000000</td>\n",
       "      <td>20010.000000</td>\n",
       "      <td>38.914207</td>\n",
       "      <td>-77.021489</td>\n",
       "      <td>5002.000000</td>\n",
       "      <td>-77.021262</td>\n",
       "      <td>38.914181</td>\n",
       "    </tr>\n",
       "    <tr>\n",
       "      <th>75%</th>\n",
       "      <td>2.000000</td>\n",
       "      <td>1.000000</td>\n",
       "      <td>1.000000</td>\n",
       "      <td>7.000000</td>\n",
       "      <td>3.000000</td>\n",
       "      <td>1966.000000</td>\n",
       "      <td>2011.000000</td>\n",
       "      <td>1981.000000</td>\n",
       "      <td>2.000000</td>\n",
       "      <td>6.520000e+05</td>\n",
       "      <td>...</td>\n",
       "      <td>17.000000</td>\n",
       "      <td>2556.000000</td>\n",
       "      <td>2972.000000</td>\n",
       "      <td>1049.000000</td>\n",
       "      <td>20017.000000</td>\n",
       "      <td>38.933797</td>\n",
       "      <td>-76.990601</td>\n",
       "      <td>8100.000000</td>\n",
       "      <td>-76.990849</td>\n",
       "      <td>38.933756</td>\n",
       "    </tr>\n",
       "    <tr>\n",
       "      <th>max</th>\n",
       "      <td>12.000000</td>\n",
       "      <td>11.000000</td>\n",
       "      <td>6.000000</td>\n",
       "      <td>31.000000</td>\n",
       "      <td>20.000000</td>\n",
       "      <td>2018.000000</td>\n",
       "      <td>2019.000000</td>\n",
       "      <td>2018.000000</td>\n",
       "      <td>826.000000</td>\n",
       "      <td>1.374275e+08</td>\n",
       "      <td>...</td>\n",
       "      <td>117.000000</td>\n",
       "      <td>187301.000000</td>\n",
       "      <td>5621.000000</td>\n",
       "      <td>8553.000000</td>\n",
       "      <td>20392.000000</td>\n",
       "      <td>38.995435</td>\n",
       "      <td>-76.909758</td>\n",
       "      <td>11100.000000</td>\n",
       "      <td>-76.910511</td>\n",
       "      <td>38.993646</td>\n",
       "    </tr>\n",
       "  </tbody>\n",
       "</table>\n",
       "<p>8 rows × 25 columns</p>\n",
       "</div>"
      ],
      "text/plain": [
       "             BATHRM     HF_BATHRM     NUM_UNITS         ROOMS         BEDRM  \\\n",
       "count  98216.000000  98216.000000  57900.000000  98216.000000  98216.000000   \n",
       "mean       1.859157      0.444541      1.221071      5.921836      2.606480   \n",
       "std        0.978321      0.576217      0.623997      2.637816      1.393801   \n",
       "min        0.000000      0.000000      0.000000      0.000000      0.000000   \n",
       "25%        1.000000      0.000000      1.000000      4.000000      2.000000   \n",
       "50%        2.000000      0.000000      1.000000      6.000000      3.000000   \n",
       "75%        2.000000      1.000000      1.000000      7.000000      3.000000   \n",
       "max       12.000000     11.000000      6.000000     31.000000     20.000000   \n",
       "\n",
       "                AYB       YR_RMDL           EYB       STORIES         PRICE  \\\n",
       "count  98104.000000  57674.000000  98216.000000  57867.000000  9.821600e+04   \n",
       "mean    1944.903888   2000.666748   1965.759876      2.124667  9.313516e+05   \n",
       "std       36.254098     16.136807     27.500116      3.948764  7.061325e+06   \n",
       "min     1754.000000     20.000000   1800.000000      0.000000  1.000000e+00   \n",
       "25%     1917.000000   1991.000000   1954.000000      2.000000  2.400000e+05   \n",
       "50%     1939.000000   2005.000000   1965.000000      2.000000  3.999990e+05   \n",
       "75%     1966.000000   2011.000000   1981.000000      2.000000  6.520000e+05   \n",
       "max     2018.000000   2019.000000   2018.000000    826.000000  1.374275e+08   \n",
       "\n",
       "           ...            USECODE       LANDAREA     CMPLX_NUM    LIVING_GBA  \\\n",
       "count      ...       98216.000000   98216.000000  40316.000000  40316.000000   \n",
       "mean       ...          14.613393    2084.296123   2442.438337    882.090907   \n",
       "std        ...           3.683449    2765.429658   1136.998556    406.013673   \n",
       "min        ...          11.000000       0.000000   1001.000000    199.000000   \n",
       "25%        ...          11.000000     482.000000   1586.750000    619.000000   \n",
       "50%        ...          13.000000    1380.000000   2282.000000    781.000000   \n",
       "75%        ...          17.000000    2556.000000   2972.000000   1049.000000   \n",
       "max        ...         117.000000  187301.000000   5621.000000   8553.000000   \n",
       "\n",
       "            ZIPCODE      LATITUDE     LONGITUDE  CENSUS_TRACT             X  \\\n",
       "count  98216.000000  98216.000000  98216.000000  98216.000000  98115.000000   \n",
       "mean   20012.303525     38.913911    -77.018076   5289.710220    -77.018101   \n",
       "std       16.326982      0.030185      0.039794   3288.288804      0.039786   \n",
       "min    20001.000000     38.819731    -77.113909    100.000000    -77.113135   \n",
       "25%    20005.000000     38.895973    -77.042758   2201.000000    -77.042768   \n",
       "50%    20010.000000     38.914207    -77.021489   5002.000000    -77.021262   \n",
       "75%    20017.000000     38.933797    -76.990601   8100.000000    -76.990849   \n",
       "max    20392.000000     38.995435    -76.909758  11100.000000    -76.910511   \n",
       "\n",
       "                  Y  \n",
       "count  98115.000000  \n",
       "mean      38.913903  \n",
       "std        0.030161  \n",
       "min       38.820576  \n",
       "25%       38.895753  \n",
       "50%       38.914181  \n",
       "75%       38.933756  \n",
       "max       38.993646  \n",
       "\n",
       "[8 rows x 25 columns]"
      ]
     },
     "execution_count": 52,
     "metadata": {},
     "output_type": "execute_result"
    }
   ],
   "source": [
    "df1.describe()"
   ]
  },
  {
   "cell_type": "code",
   "execution_count": 53,
   "metadata": {},
   "outputs": [
    {
     "data": {
      "text/plain": [
       "array([[<matplotlib.axes._subplots.AxesSubplot object at 0x7f6372189b38>,\n",
       "        <matplotlib.axes._subplots.AxesSubplot object at 0x7f637219edd8>,\n",
       "        <matplotlib.axes._subplots.AxesSubplot object at 0x7f636f337080>,\n",
       "        <matplotlib.axes._subplots.AxesSubplot object at 0x7f636f2de2e8>,\n",
       "        <matplotlib.axes._subplots.AxesSubplot object at 0x7f636f307550>],\n",
       "       [<matplotlib.axes._subplots.AxesSubplot object at 0x7f636f2af7b8>,\n",
       "        <matplotlib.axes._subplots.AxesSubplot object at 0x7f636f2579e8>,\n",
       "        <matplotlib.axes._subplots.AxesSubplot object at 0x7f636f281c88>,\n",
       "        <matplotlib.axes._subplots.AxesSubplot object at 0x7f636f281cc0>,\n",
       "        <matplotlib.axes._subplots.AxesSubplot object at 0x7f636f1dc160>],\n",
       "       [<matplotlib.axes._subplots.AxesSubplot object at 0x7f636f2053c8>,\n",
       "        <matplotlib.axes._subplots.AxesSubplot object at 0x7f636f1ae630>,\n",
       "        <matplotlib.axes._subplots.AxesSubplot object at 0x7f636f157898>,\n",
       "        <matplotlib.axes._subplots.AxesSubplot object at 0x7f636f181b00>,\n",
       "        <matplotlib.axes._subplots.AxesSubplot object at 0x7f636f12dd68>],\n",
       "       [<matplotlib.axes._subplots.AxesSubplot object at 0x7f636f0d6fd0>,\n",
       "        <matplotlib.axes._subplots.AxesSubplot object at 0x7f636f107278>,\n",
       "        <matplotlib.axes._subplots.AxesSubplot object at 0x7f636f0b24e0>,\n",
       "        <matplotlib.axes._subplots.AxesSubplot object at 0x7f636f05a748>,\n",
       "        <matplotlib.axes._subplots.AxesSubplot object at 0x7f636f0839b0>],\n",
       "       [<matplotlib.axes._subplots.AxesSubplot object at 0x7f636f02ec18>,\n",
       "        <matplotlib.axes._subplots.AxesSubplot object at 0x7f636efd7e80>,\n",
       "        <matplotlib.axes._subplots.AxesSubplot object at 0x7f636f009128>,\n",
       "        <matplotlib.axes._subplots.AxesSubplot object at 0x7f636efb2390>,\n",
       "        <matplotlib.axes._subplots.AxesSubplot object at 0x7f636ef5b5f8>]],\n",
       "      dtype=object)"
      ]
     },
     "execution_count": 53,
     "metadata": {},
     "output_type": "execute_result"
    },
    {
     "data": {
      "image/png": "[encoded data removed]",
      "text/plain": [
       "<Figure size 864x864 with 25 Axes>"
      ]
     },
     "metadata": {
      "needs_background": "light"
     },
     "output_type": "display_data"
    }
   ],
   "source": [
    "df1.hist(figsize=(12,12))"
   ]
  },
  {
   "cell_type": "code",
   "execution_count": 54,
   "metadata": {},
   "outputs": [
    {
     "data": {
      "text/plain": [
       "array([[<matplotlib.axes._subplots.AxesSubplot object at 0x7f636ea7e8d0>,\n",
       "        <matplotlib.axes._subplots.AxesSubplot object at 0x7f6378b8b240>,\n",
       "        <matplotlib.axes._subplots.AxesSubplot object at 0x7f636ea593c8>,\n",
       "        <matplotlib.axes._subplots.AxesSubplot object at 0x7f636ea01828>,\n",
       "        <matplotlib.axes._subplots.AxesSubplot object at 0x7f636e9a9c88>],\n",
       "       [<matplotlib.axes._subplots.AxesSubplot object at 0x7f636e95a128>,\n",
       "        <matplotlib.axes._subplots.AxesSubplot object at 0x7f636e982588>,\n",
       "        <matplotlib.axes._subplots.AxesSubplot object at 0x7f636e92ca20>,\n",
       "        <matplotlib.axes._subplots.AxesSubplot object at 0x7f636e92ca58>,\n",
       "        <matplotlib.axes._subplots.AxesSubplot object at 0x7f636e9072e8>],\n",
       "       [<matplotlib.axes._subplots.AxesSubplot object at 0x7f636e8ae748>,\n",
       "        <matplotlib.axes._subplots.AxesSubplot object at 0x7f636e855ba8>,\n",
       "        <matplotlib.axes._subplots.AxesSubplot object at 0x7f636e889048>,\n",
       "        <matplotlib.axes._subplots.AxesSubplot object at 0x7f636e8304a8>,\n",
       "        <matplotlib.axes._subplots.AxesSubplot object at 0x7f636e7d7908>],\n",
       "       [<matplotlib.axes._subplots.AxesSubplot object at 0x7f636e801d68>,\n",
       "        <matplotlib.axes._subplots.AxesSubplot object at 0x7f636e7b2208>,\n",
       "        <matplotlib.axes._subplots.AxesSubplot object at 0x7f636e759668>,\n",
       "        <matplotlib.axes._subplots.AxesSubplot object at 0x7f636e780ac8>,\n",
       "        <matplotlib.axes._subplots.AxesSubplot object at 0x7f636e72af28>],\n",
       "       [<matplotlib.axes._subplots.AxesSubplot object at 0x7f636e6db3c8>,\n",
       "        <matplotlib.axes._subplots.AxesSubplot object at 0x7f636e702828>,\n",
       "        <matplotlib.axes._subplots.AxesSubplot object at 0x7f636e6acc88>,\n",
       "        <matplotlib.axes._subplots.AxesSubplot object at 0x7f636e65c128>,\n",
       "        <matplotlib.axes._subplots.AxesSubplot object at 0x7f636e684588>]],\n",
       "      dtype=object)"
      ]
     },
     "execution_count": 54,
     "metadata": {},
     "output_type": "execute_result"
    },
    {
     "data": {
      "image/png": "[encoded data removed]",
      "text/plain": [
       "<Figure size 864x864 with 25 Axes>"
      ]
     },
     "metadata": {
      "needs_background": "light"
     },
     "output_type": "display_data"
    }
   ],
   "source": [
    "df1.hist(figsize=(12,12), sharex=True)"
   ]
  },
  {
   "cell_type": "markdown",
   "metadata": {},
   "source": [
    "# z-score standardization"
   ]
  },
  {
   "cell_type": "code",
   "execution_count": 55,
   "metadata": {},
   "outputs": [
    {
     "data": {
      "text/plain": [
       "(-4.630074029551846e-18, 1.0)"
      ]
     },
     "execution_count": 55,
     "metadata": {},
     "output_type": "execute_result"
    }
   ],
   "source": [
    "scaler = StandardScaler()\n",
    "price_zscore = scaler.fit_transform(df1[['PRICE']])\n",
    "price_zscore.mean(), price_zscore.std()"
   ]
  },
  {
   "cell_type": "code",
   "execution_count": 56,
   "metadata": {},
   "outputs": [],
   "source": [
    "price_z_col = pd.Series(price_zscore.reshape(-1))"
   ]
  },
  {
   "cell_type": "code",
   "execution_count": 57,
   "metadata": {},
   "outputs": [
    {
     "data": {
      "text/plain": [
       "0    0.023175\n",
       "1    0.165501\n",
       "2    0.094975\n",
       "3    0.144258\n",
       "4    0.016803\n",
       "dtype: float64"
      ]
     },
     "execution_count": 57,
     "metadata": {},
     "output_type": "execute_result"
    }
   ],
   "source": [
    "price_z_col.head()"
   ]
  },
  {
   "cell_type": "code",
   "execution_count": 58,
   "metadata": {},
   "outputs": [
    {
     "data": {
      "text/plain": [
       "<matplotlib.axes._subplots.AxesSubplot at 0x7f636e565898>"
      ]
     },
     "execution_count": 58,
     "metadata": {},
     "output_type": "execute_result"
    },
    {
     "data": {
      "image/png": "[encoded data removed]",
      "text/plain": [
       "<Figure size 432x288 with 1 Axes>"
      ]
     },
     "metadata": {
      "needs_background": "light"
     },
     "output_type": "display_data"
    }
   ],
   "source": [
    "#BEFORE: frequency count plot of 'PRICE' column\n",
    "df1['PRICE'].hist()"
   ]
  },
  {
   "cell_type": "code",
   "execution_count": 59,
   "metadata": {},
   "outputs": [
    {
     "data": {
      "text/plain": [
       "<matplotlib.axes._subplots.AxesSubplot at 0x7f636dfd3470>"
      ]
     },
     "execution_count": 59,
     "metadata": {},
     "output_type": "execute_result"
    },
    {
     "data": {
      "image/png": "[encoded data removed]",
      "text/plain": [
       "<Figure size 432x288 with 1 Axes>"
      ]
     },
     "metadata": {
      "needs_background": "light"
     },
     "output_type": "display_data"
    }
   ],
   "source": [
    "# AFTER\n",
    "price_z_col.hist()"
   ]
  },
  {
   "cell_type": "markdown",
   "metadata": {},
   "source": [
    "# min-max scaling"
   ]
  },
  {
   "cell_type": "code",
   "execution_count": 60,
   "metadata": {},
   "outputs": [],
   "source": [
    "#MinMaxScaler function will calculate the formula\n",
    "minmax_sc = MinMaxScaler()"
   ]
  },
  {
   "cell_type": "code",
   "execution_count": 61,
   "metadata": {},
   "outputs": [],
   "source": [
    "#use MinMaxScaler function and fit_transform function on the 'PRICE' column\n",
    "price_minmax = minmax_sc.fit_transform(df1[['PRICE']])"
   ]
  },
  {
   "cell_type": "code",
   "execution_count": 62,
   "metadata": {},
   "outputs": [
    {
     "data": {
      "text/plain": [
       "(0.006777030046710401, 0.0513819049810315)"
      ]
     },
     "execution_count": 62,
     "metadata": {},
     "output_type": "execute_result"
    }
   ],
   "source": [
    "price_minmax.mean(), price_minmax.std()"
   ]
  },
  {
   "cell_type": "code",
   "execution_count": 63,
   "metadata": {},
   "outputs": [
    {
     "data": {
      "text/plain": [
       "0    0.007968\n",
       "1    0.015281\n",
       "2    0.011657\n",
       "3    0.014189\n",
       "4    0.007640\n",
       "dtype: float64"
      ]
     },
     "execution_count": 63,
     "metadata": {},
     "output_type": "execute_result"
    }
   ],
   "source": [
    "price_mm_col = pd.Series(price_minmax.reshape(-1))\n",
    "price_mm_col.head()"
   ]
  },
  {
   "cell_type": "code",
   "execution_count": 64,
   "metadata": {},
   "outputs": [
    {
     "data": {
      "text/plain": [
       "(0.0, 0.9999999999999999)"
      ]
     },
     "execution_count": 64,
     "metadata": {},
     "output_type": "execute_result"
    }
   ],
   "source": [
    "#verify the range is between 0 and 1\n",
    "price_mm_col.min(), price_mm_col.max()"
   ]
  },
  {
   "cell_type": "code",
   "execution_count": 65,
   "metadata": {},
   "outputs": [
    {
     "data": {
      "text/plain": [
       "<matplotlib.axes._subplots.AxesSubplot at 0x7f636dfc4128>"
      ]
     },
     "execution_count": 65,
     "metadata": {},
     "output_type": "execute_result"
    },
    {
     "data": {
      "image/png": "[encoded data removed]",
      "text/plain": [
       "<Figure size 432x288 with 1 Axes>"
      ]
     },
     "metadata": {
      "needs_background": "light"
     },
     "output_type": "display_data"
    }
   ],
   "source": [
    "price_mm_col.hist()"
   ]
  },
  {
   "cell_type": "code",
   "execution_count": null,
   "metadata": {},
   "outputs": [],
   "source": []
  }
 ],
 "metadata": {
  "kernelspec": {
   "display_name": "Python 3",
   "language": "python",
   "name": "python3"
  },
  "language_info": {
   "codemirror_mode": {
    "name": "ipython",
    "version": 3
   },
   "file_extension": ".py",
   "mimetype": "text/x-python",
   "name": "python",
   "nbconvert_exporter": "python",
   "pygments_lexer": "ipython3",
   "version": "3.7.1"
  }
 },
 "nbformat": 4,
 "nbformat_minor": 2
}
