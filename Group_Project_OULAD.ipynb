{
 "cells": [
  {
   "cell_type": "raw",
   "metadata": {},
   "source": [
    "from sklearn.naive_bayes import GaussianNB   #import Gaussian Bayes modeling function\n",
    "from sklearn.model_selection import train_test_split\n",
    "from sklearn.metrics import classification_report\n",
    "from sklearn.metrics import confusion_matrix\n",
    "from sklearn.metrics import accuracy_score"
   ]
  },
  {
   "cell_type": "code",
   "execution_count": 178,
   "metadata": {},
   "outputs": [],
   "source": [
    "import pandas as pd\n",
    "import numpy as np"
   ]
  },
  {
   "cell_type": "code",
   "execution_count": 179,
   "metadata": {},
   "outputs": [],
   "source": [
    "assessments_loc = \"datasets/assessments.csv\"\n",
    "assessments = pd.read_csv(assessments_loc)\n",
    "\n",
    "student_assess_loc = \"datasets/studentAssessment.csv\"\n",
    "student_assess = pd.read_csv(student_assess_loc)\n",
    "\n",
    "student_info_loc = \"datasets/studentInfo.csv\"\n",
    "student_info = pd.read_csv(student_info_loc)\n",
    "\n",
    "student_reg_loc = \"datasets/studentRegistration.csv\"\n",
    "student_reg = pd.read_csv(student_reg_loc)\n",
    "\n",
    "student_vle_loc = \"datasets/studentVle.csv\"\n",
    "student_vle = pd.read_csv(student_vle_loc)\n",
    "\n",
    "#vle_loc = \"datasets/vle.csv\"\n",
    "#vle = pd.read_csv(vle_loc)"
   ]
  },
  {
   "cell_type": "code",
   "execution_count": 180,
   "metadata": {},
   "outputs": [],
   "source": [
    "courses_loc = \"datasets/courses.csv\"\n",
    "courses = pd.read_csv(courses_loc)"
   ]
  },
  {
   "cell_type": "code",
   "execution_count": 181,
   "metadata": {},
   "outputs": [
    {
     "data": {
      "text/html": [
       "<div>\n",
       "<style scoped>\n",
       "    .dataframe tbody tr th:only-of-type {\n",
       "        vertical-align: middle;\n",
       "    }\n",
       "\n",
       "    .dataframe tbody tr th {\n",
       "        vertical-align: top;\n",
       "    }\n",
       "\n",
       "    .dataframe thead th {\n",
       "        text-align: right;\n",
       "    }\n",
       "</style>\n",
       "<table border=\"1\" class=\"dataframe\">\n",
       "  <thead>\n",
       "    <tr style=\"text-align: right;\">\n",
       "      <th></th>\n",
       "      <th>code_module</th>\n",
       "      <th>code_presentation</th>\n",
       "      <th>module_presentation_length</th>\n",
       "    </tr>\n",
       "  </thead>\n",
       "  <tbody>\n",
       "    <tr>\n",
       "      <th>0</th>\n",
       "      <td>AAA</td>\n",
       "      <td>2013J</td>\n",
       "      <td>268</td>\n",
       "    </tr>\n",
       "    <tr>\n",
       "      <th>1</th>\n",
       "      <td>AAA</td>\n",
       "      <td>2014J</td>\n",
       "      <td>269</td>\n",
       "    </tr>\n",
       "    <tr>\n",
       "      <th>2</th>\n",
       "      <td>BBB</td>\n",
       "      <td>2013J</td>\n",
       "      <td>268</td>\n",
       "    </tr>\n",
       "    <tr>\n",
       "      <th>3</th>\n",
       "      <td>BBB</td>\n",
       "      <td>2014J</td>\n",
       "      <td>262</td>\n",
       "    </tr>\n",
       "    <tr>\n",
       "      <th>4</th>\n",
       "      <td>BBB</td>\n",
       "      <td>2013B</td>\n",
       "      <td>240</td>\n",
       "    </tr>\n",
       "  </tbody>\n",
       "</table>\n",
       "</div>"
      ],
      "text/plain": [
       "  code_module code_presentation  module_presentation_length\n",
       "0         AAA             2013J                         268\n",
       "1         AAA             2014J                         269\n",
       "2         BBB             2013J                         268\n",
       "3         BBB             2014J                         262\n",
       "4         BBB             2013B                         240"
      ]
     },
     "execution_count": 181,
     "metadata": {},
     "output_type": "execute_result"
    }
   ],
   "source": [
    "courses.head(5)"
   ]
  },
  {
   "cell_type": "code",
   "execution_count": 182,
   "metadata": {},
   "outputs": [
    {
     "data": {
      "text/html": [
       "<div>\n",
       "<style scoped>\n",
       "    .dataframe tbody tr th:only-of-type {\n",
       "        vertical-align: middle;\n",
       "    }\n",
       "\n",
       "    .dataframe tbody tr th {\n",
       "        vertical-align: top;\n",
       "    }\n",
       "\n",
       "    .dataframe thead th {\n",
       "        text-align: right;\n",
       "    }\n",
       "</style>\n",
       "<table border=\"1\" class=\"dataframe\">\n",
       "  <thead>\n",
       "    <tr style=\"text-align: right;\">\n",
       "      <th></th>\n",
       "      <th>code_module</th>\n",
       "      <th>code_presentation</th>\n",
       "      <th>module_presentation_length</th>\n",
       "    </tr>\n",
       "  </thead>\n",
       "  <tbody>\n",
       "    <tr>\n",
       "      <th>0</th>\n",
       "      <td>AAA</td>\n",
       "      <td>2013J</td>\n",
       "      <td>268</td>\n",
       "    </tr>\n",
       "    <tr>\n",
       "      <th>1</th>\n",
       "      <td>AAA</td>\n",
       "      <td>2014J</td>\n",
       "      <td>269</td>\n",
       "    </tr>\n",
       "    <tr>\n",
       "      <th>2</th>\n",
       "      <td>BBB</td>\n",
       "      <td>2013J</td>\n",
       "      <td>268</td>\n",
       "    </tr>\n",
       "    <tr>\n",
       "      <th>3</th>\n",
       "      <td>BBB</td>\n",
       "      <td>2014J</td>\n",
       "      <td>262</td>\n",
       "    </tr>\n",
       "    <tr>\n",
       "      <th>6</th>\n",
       "      <td>CCC</td>\n",
       "      <td>2014J</td>\n",
       "      <td>269</td>\n",
       "    </tr>\n",
       "  </tbody>\n",
       "</table>\n",
       "</div>"
      ],
      "text/plain": [
       "  code_module code_presentation  module_presentation_length\n",
       "0         AAA             2013J                         268\n",
       "1         AAA             2014J                         269\n",
       "2         BBB             2013J                         268\n",
       "3         BBB             2014J                         262\n",
       "6         CCC             2014J                         269"
      ]
     },
     "execution_count": 182,
     "metadata": {},
     "output_type": "execute_result"
    }
   ],
   "source": [
    "courses2 = courses.copy()\n",
    "courses2.code_presentation = courses2.code_presentation.apply(lambda x: x if 'J' in x else \"\")\n",
    "courses2['code_presentation'].replace('', np.nan, inplace=True)\n",
    "courses2.dropna(subset=['code_presentation'], inplace=True)\n",
    "courses2.head(5)"
   ]
  },
  {
   "cell_type": "code",
   "execution_count": 183,
   "metadata": {},
   "outputs": [
    {
     "data": {
      "text/html": [
       "<div>\n",
       "<style scoped>\n",
       "    .dataframe tbody tr th:only-of-type {\n",
       "        vertical-align: middle;\n",
       "    }\n",
       "\n",
       "    .dataframe tbody tr th {\n",
       "        vertical-align: top;\n",
       "    }\n",
       "\n",
       "    .dataframe thead th {\n",
       "        text-align: right;\n",
       "    }\n",
       "</style>\n",
       "<table border=\"1\" class=\"dataframe\">\n",
       "  <thead>\n",
       "    <tr style=\"text-align: right;\">\n",
       "      <th></th>\n",
       "      <th>code_module</th>\n",
       "      <th>code_presentation</th>\n",
       "      <th>module_presentation_length</th>\n",
       "    </tr>\n",
       "  </thead>\n",
       "  <tbody>\n",
       "    <tr>\n",
       "      <th>0</th>\n",
       "      <td>AAA</td>\n",
       "      <td>2013J</td>\n",
       "      <td>268</td>\n",
       "    </tr>\n",
       "    <tr>\n",
       "      <th>1</th>\n",
       "      <td>AAA</td>\n",
       "      <td>2014J</td>\n",
       "      <td>269</td>\n",
       "    </tr>\n",
       "    <tr>\n",
       "      <th>2</th>\n",
       "      <td>BBB</td>\n",
       "      <td>2013J</td>\n",
       "      <td>268</td>\n",
       "    </tr>\n",
       "    <tr>\n",
       "      <th>3</th>\n",
       "      <td>BBB</td>\n",
       "      <td>2014J</td>\n",
       "      <td>262</td>\n",
       "    </tr>\n",
       "    <tr>\n",
       "      <th>8</th>\n",
       "      <td>DDD</td>\n",
       "      <td>2013J</td>\n",
       "      <td>261</td>\n",
       "    </tr>\n",
       "  </tbody>\n",
       "</table>\n",
       "</div>"
      ],
      "text/plain": [
       "  code_module code_presentation  module_presentation_length\n",
       "0         AAA             2013J                         268\n",
       "1         AAA             2014J                         269\n",
       "2         BBB             2013J                         268\n",
       "3         BBB             2014J                         262\n",
       "8         DDD             2013J                         261"
      ]
     },
     "execution_count": 183,
     "metadata": {},
     "output_type": "execute_result"
    }
   ],
   "source": [
    "removal_list = ['CCC','EEE','GGG']\n",
    "\n",
    "courses3 = courses2.copy()\n",
    "courses3.code_module = courses3.code_module.apply(lambda x: x if x not in removal_list else \"\")\n",
    "courses3['code_module'].replace('', np.nan, inplace=True)\n",
    "courses3.dropna(subset=['code_module'], inplace=True)\n",
    "courses3.head(5)"
   ]
  },
  {
   "cell_type": "code",
   "execution_count": 184,
   "metadata": {},
   "outputs": [],
   "source": [
    "#print(assessments.shape)\n",
    "#assessments.head()"
   ]
  },
  {
   "cell_type": "code",
   "execution_count": 185,
   "metadata": {},
   "outputs": [],
   "source": [
    "#assessments.dtypes"
   ]
  },
  {
   "cell_type": "code",
   "execution_count": 186,
   "metadata": {},
   "outputs": [],
   "source": [
    "#assessments.count()"
   ]
  },
  {
   "cell_type": "code",
   "execution_count": 187,
   "metadata": {},
   "outputs": [],
   "source": [
    "#print(courses.shape)\n",
    "#courses.head()\n"
   ]
  },
  {
   "cell_type": "code",
   "execution_count": 188,
   "metadata": {},
   "outputs": [],
   "source": [
    "#courses.dtypes"
   ]
  },
  {
   "cell_type": "code",
   "execution_count": 189,
   "metadata": {},
   "outputs": [],
   "source": [
    "#courses.count()"
   ]
  },
  {
   "cell_type": "code",
   "execution_count": 190,
   "metadata": {},
   "outputs": [],
   "source": [
    "#print(student_assess.shape)\n",
    "#student_assess.head()\n"
   ]
  },
  {
   "cell_type": "code",
   "execution_count": 191,
   "metadata": {},
   "outputs": [],
   "source": [
    "#student_assess.dtypes"
   ]
  },
  {
   "cell_type": "code",
   "execution_count": 192,
   "metadata": {},
   "outputs": [],
   "source": [
    "#student_assess.count()"
   ]
  },
  {
   "cell_type": "code",
   "execution_count": 193,
   "metadata": {},
   "outputs": [],
   "source": [
    "#print(student_info.shape)\n",
    "#student_info.head()\n"
   ]
  },
  {
   "cell_type": "code",
   "execution_count": 194,
   "metadata": {},
   "outputs": [],
   "source": [
    "#student_info.dtypes"
   ]
  },
  {
   "cell_type": "code",
   "execution_count": 195,
   "metadata": {},
   "outputs": [],
   "source": [
    "#student_info.count()"
   ]
  },
  {
   "cell_type": "markdown",
   "metadata": {},
   "source": [
    "# using student_reg1 from now on ;)"
   ]
  },
  {
   "cell_type": "code",
   "execution_count": 196,
   "metadata": {},
   "outputs": [
    {
     "data": {
      "text/html": [
       "<div>\n",
       "<style scoped>\n",
       "    .dataframe tbody tr th:only-of-type {\n",
       "        vertical-align: middle;\n",
       "    }\n",
       "\n",
       "    .dataframe tbody tr th {\n",
       "        vertical-align: top;\n",
       "    }\n",
       "\n",
       "    .dataframe thead th {\n",
       "        text-align: right;\n",
       "    }\n",
       "</style>\n",
       "<table border=\"1\" class=\"dataframe\">\n",
       "  <thead>\n",
       "    <tr style=\"text-align: right;\">\n",
       "      <th></th>\n",
       "      <th>code_module</th>\n",
       "      <th>code_presentation</th>\n",
       "      <th>id_student</th>\n",
       "      <th>date_registration</th>\n",
       "    </tr>\n",
       "  </thead>\n",
       "  <tbody>\n",
       "    <tr>\n",
       "      <th>0</th>\n",
       "      <td>AAA</td>\n",
       "      <td>2013J</td>\n",
       "      <td>11391</td>\n",
       "      <td>-159.0</td>\n",
       "    </tr>\n",
       "    <tr>\n",
       "      <th>1</th>\n",
       "      <td>AAA</td>\n",
       "      <td>2013J</td>\n",
       "      <td>28400</td>\n",
       "      <td>-53.0</td>\n",
       "    </tr>\n",
       "    <tr>\n",
       "      <th>2</th>\n",
       "      <td>AAA</td>\n",
       "      <td>2013J</td>\n",
       "      <td>30268</td>\n",
       "      <td>-92.0</td>\n",
       "    </tr>\n",
       "    <tr>\n",
       "      <th>3</th>\n",
       "      <td>AAA</td>\n",
       "      <td>2013J</td>\n",
       "      <td>31604</td>\n",
       "      <td>-52.0</td>\n",
       "    </tr>\n",
       "    <tr>\n",
       "      <th>4</th>\n",
       "      <td>AAA</td>\n",
       "      <td>2013J</td>\n",
       "      <td>32885</td>\n",
       "      <td>-176.0</td>\n",
       "    </tr>\n",
       "  </tbody>\n",
       "</table>\n",
       "</div>"
      ],
      "text/plain": [
       "  code_module code_presentation  id_student  date_registration\n",
       "0         AAA             2013J       11391             -159.0\n",
       "1         AAA             2013J       28400              -53.0\n",
       "2         AAA             2013J       30268              -92.0\n",
       "3         AAA             2013J       31604              -52.0\n",
       "4         AAA             2013J       32885             -176.0"
      ]
     },
     "execution_count": 196,
     "metadata": {},
     "output_type": "execute_result"
    }
   ],
   "source": [
    "#print(student_reg.shape)\n",
    "#student_reg.head()\n",
    "student_reg1 = student_reg.copy()\n",
    "student_reg1 = student_reg1.drop(\"date_unregistration\", axis=1)\n",
    "student_reg1.head()"
   ]
  },
  {
   "cell_type": "markdown",
   "metadata": {},
   "source": [
    "# merge studentAssess & assess in order to drop post-first assessments"
   ]
  },
  {
   "cell_type": "code",
   "execution_count": 197,
   "metadata": {},
   "outputs": [
    {
     "data": {
      "text/html": [
       "<div>\n",
       "<style scoped>\n",
       "    .dataframe tbody tr th:only-of-type {\n",
       "        vertical-align: middle;\n",
       "    }\n",
       "\n",
       "    .dataframe tbody tr th {\n",
       "        vertical-align: top;\n",
       "    }\n",
       "\n",
       "    .dataframe thead th {\n",
       "        text-align: right;\n",
       "    }\n",
       "</style>\n",
       "<table border=\"1\" class=\"dataframe\">\n",
       "  <thead>\n",
       "    <tr style=\"text-align: right;\">\n",
       "      <th></th>\n",
       "      <th>id_assessment</th>\n",
       "      <th>id_student</th>\n",
       "      <th>date_submitted</th>\n",
       "      <th>is_banked</th>\n",
       "      <th>score</th>\n",
       "      <th>code_module</th>\n",
       "      <th>code_presentation</th>\n",
       "      <th>assessment_type</th>\n",
       "      <th>date</th>\n",
       "      <th>weight</th>\n",
       "    </tr>\n",
       "  </thead>\n",
       "  <tbody>\n",
       "    <tr>\n",
       "      <th>0</th>\n",
       "      <td>1752</td>\n",
       "      <td>11391</td>\n",
       "      <td>18</td>\n",
       "      <td>0</td>\n",
       "      <td>78.0</td>\n",
       "      <td>AAA</td>\n",
       "      <td>2013J</td>\n",
       "      <td>TMA</td>\n",
       "      <td>19.0</td>\n",
       "      <td>10.0</td>\n",
       "    </tr>\n",
       "    <tr>\n",
       "      <th>1</th>\n",
       "      <td>1752</td>\n",
       "      <td>28400</td>\n",
       "      <td>22</td>\n",
       "      <td>0</td>\n",
       "      <td>70.0</td>\n",
       "      <td>AAA</td>\n",
       "      <td>2013J</td>\n",
       "      <td>TMA</td>\n",
       "      <td>19.0</td>\n",
       "      <td>10.0</td>\n",
       "    </tr>\n",
       "    <tr>\n",
       "      <th>2</th>\n",
       "      <td>1752</td>\n",
       "      <td>31604</td>\n",
       "      <td>17</td>\n",
       "      <td>0</td>\n",
       "      <td>72.0</td>\n",
       "      <td>AAA</td>\n",
       "      <td>2013J</td>\n",
       "      <td>TMA</td>\n",
       "      <td>19.0</td>\n",
       "      <td>10.0</td>\n",
       "    </tr>\n",
       "    <tr>\n",
       "      <th>3</th>\n",
       "      <td>1752</td>\n",
       "      <td>32885</td>\n",
       "      <td>26</td>\n",
       "      <td>0</td>\n",
       "      <td>69.0</td>\n",
       "      <td>AAA</td>\n",
       "      <td>2013J</td>\n",
       "      <td>TMA</td>\n",
       "      <td>19.0</td>\n",
       "      <td>10.0</td>\n",
       "    </tr>\n",
       "    <tr>\n",
       "      <th>4</th>\n",
       "      <td>1752</td>\n",
       "      <td>38053</td>\n",
       "      <td>19</td>\n",
       "      <td>0</td>\n",
       "      <td>79.0</td>\n",
       "      <td>AAA</td>\n",
       "      <td>2013J</td>\n",
       "      <td>TMA</td>\n",
       "      <td>19.0</td>\n",
       "      <td>10.0</td>\n",
       "    </tr>\n",
       "    <tr>\n",
       "      <th>5</th>\n",
       "      <td>1752</td>\n",
       "      <td>45462</td>\n",
       "      <td>20</td>\n",
       "      <td>0</td>\n",
       "      <td>70.0</td>\n",
       "      <td>AAA</td>\n",
       "      <td>2013J</td>\n",
       "      <td>TMA</td>\n",
       "      <td>19.0</td>\n",
       "      <td>10.0</td>\n",
       "    </tr>\n",
       "    <tr>\n",
       "      <th>6</th>\n",
       "      <td>1752</td>\n",
       "      <td>45642</td>\n",
       "      <td>18</td>\n",
       "      <td>0</td>\n",
       "      <td>72.0</td>\n",
       "      <td>AAA</td>\n",
       "      <td>2013J</td>\n",
       "      <td>TMA</td>\n",
       "      <td>19.0</td>\n",
       "      <td>10.0</td>\n",
       "    </tr>\n",
       "    <tr>\n",
       "      <th>7</th>\n",
       "      <td>1752</td>\n",
       "      <td>52130</td>\n",
       "      <td>19</td>\n",
       "      <td>0</td>\n",
       "      <td>72.0</td>\n",
       "      <td>AAA</td>\n",
       "      <td>2013J</td>\n",
       "      <td>TMA</td>\n",
       "      <td>19.0</td>\n",
       "      <td>10.0</td>\n",
       "    </tr>\n",
       "    <tr>\n",
       "      <th>8</th>\n",
       "      <td>1752</td>\n",
       "      <td>53025</td>\n",
       "      <td>9</td>\n",
       "      <td>0</td>\n",
       "      <td>71.0</td>\n",
       "      <td>AAA</td>\n",
       "      <td>2013J</td>\n",
       "      <td>TMA</td>\n",
       "      <td>19.0</td>\n",
       "      <td>10.0</td>\n",
       "    </tr>\n",
       "    <tr>\n",
       "      <th>9</th>\n",
       "      <td>1752</td>\n",
       "      <td>57506</td>\n",
       "      <td>18</td>\n",
       "      <td>0</td>\n",
       "      <td>68.0</td>\n",
       "      <td>AAA</td>\n",
       "      <td>2013J</td>\n",
       "      <td>TMA</td>\n",
       "      <td>19.0</td>\n",
       "      <td>10.0</td>\n",
       "    </tr>\n",
       "  </tbody>\n",
       "</table>\n",
       "</div>"
      ],
      "text/plain": [
       "   id_assessment  id_student  date_submitted  is_banked  score code_module  \\\n",
       "0           1752       11391              18          0   78.0         AAA   \n",
       "1           1752       28400              22          0   70.0         AAA   \n",
       "2           1752       31604              17          0   72.0         AAA   \n",
       "3           1752       32885              26          0   69.0         AAA   \n",
       "4           1752       38053              19          0   79.0         AAA   \n",
       "5           1752       45462              20          0   70.0         AAA   \n",
       "6           1752       45642              18          0   72.0         AAA   \n",
       "7           1752       52130              19          0   72.0         AAA   \n",
       "8           1752       53025               9          0   71.0         AAA   \n",
       "9           1752       57506              18          0   68.0         AAA   \n",
       "\n",
       "  code_presentation assessment_type  date  weight  \n",
       "0             2013J             TMA  19.0    10.0  \n",
       "1             2013J             TMA  19.0    10.0  \n",
       "2             2013J             TMA  19.0    10.0  \n",
       "3             2013J             TMA  19.0    10.0  \n",
       "4             2013J             TMA  19.0    10.0  \n",
       "5             2013J             TMA  19.0    10.0  \n",
       "6             2013J             TMA  19.0    10.0  \n",
       "7             2013J             TMA  19.0    10.0  \n",
       "8             2013J             TMA  19.0    10.0  \n",
       "9             2013J             TMA  19.0    10.0  "
      ]
     },
     "execution_count": 197,
     "metadata": {},
     "output_type": "execute_result"
    }
   ],
   "source": [
    "df_assess_merge_1 = pd.merge(student_assess, assessments, on=\"id_assessment\")\n",
    "df_assess_merge_1.sort_values(\"id_student\")\n",
    "df_assess_merge_1.head(10)"
   ]
  },
  {
   "cell_type": "code",
   "execution_count": 198,
   "metadata": {},
   "outputs": [
    {
     "data": {
      "text/plain": [
       "537811     28\n",
       "554881     26\n",
       "632074     25\n",
       "543010     24\n",
       "2697921    24\n",
       "Name: id_student, dtype: int64"
      ]
     },
     "execution_count": 198,
     "metadata": {},
     "output_type": "execute_result"
    }
   ],
   "source": [
    "df_assess_merge_1.id_student.value_counts()[:5]"
   ]
  },
  {
   "cell_type": "code",
   "execution_count": 199,
   "metadata": {},
   "outputs": [
    {
     "data": {
      "text/html": [
       "<div>\n",
       "<style scoped>\n",
       "    .dataframe tbody tr th:only-of-type {\n",
       "        vertical-align: middle;\n",
       "    }\n",
       "\n",
       "    .dataframe tbody tr th {\n",
       "        vertical-align: top;\n",
       "    }\n",
       "\n",
       "    .dataframe thead th {\n",
       "        text-align: right;\n",
       "    }\n",
       "</style>\n",
       "<table border=\"1\" class=\"dataframe\">\n",
       "  <thead>\n",
       "    <tr style=\"text-align: right;\">\n",
       "      <th></th>\n",
       "      <th>id_assessment</th>\n",
       "      <th>id_student</th>\n",
       "      <th>date_submitted</th>\n",
       "      <th>is_banked</th>\n",
       "      <th>score</th>\n",
       "      <th>assessment_type</th>\n",
       "      <th>date</th>\n",
       "      <th>weight</th>\n",
       "      <th>id_course</th>\n",
       "    </tr>\n",
       "  </thead>\n",
       "  <tbody>\n",
       "    <tr>\n",
       "      <th>2685</th>\n",
       "      <td>1761</td>\n",
       "      <td>6516</td>\n",
       "      <td>164</td>\n",
       "      <td>0</td>\n",
       "      <td>61.0</td>\n",
       "      <td>TMA</td>\n",
       "      <td>166.0</td>\n",
       "      <td>20.0</td>\n",
       "      <td>AAA-2014J</td>\n",
       "    </tr>\n",
       "    <tr>\n",
       "      <th>2376</th>\n",
       "      <td>1760</td>\n",
       "      <td>6516</td>\n",
       "      <td>116</td>\n",
       "      <td>0</td>\n",
       "      <td>63.0</td>\n",
       "      <td>TMA</td>\n",
       "      <td>117.0</td>\n",
       "      <td>20.0</td>\n",
       "      <td>AAA-2014J</td>\n",
       "    </tr>\n",
       "    <tr>\n",
       "      <th>1756</th>\n",
       "      <td>1758</td>\n",
       "      <td>6516</td>\n",
       "      <td>17</td>\n",
       "      <td>0</td>\n",
       "      <td>60.0</td>\n",
       "      <td>TMA</td>\n",
       "      <td>19.0</td>\n",
       "      <td>10.0</td>\n",
       "      <td>AAA-2014J</td>\n",
       "    </tr>\n",
       "    <tr>\n",
       "      <th>2871</th>\n",
       "      <td>1762</td>\n",
       "      <td>6516</td>\n",
       "      <td>210</td>\n",
       "      <td>0</td>\n",
       "      <td>77.0</td>\n",
       "      <td>TMA</td>\n",
       "      <td>215.0</td>\n",
       "      <td>30.0</td>\n",
       "      <td>AAA-2014J</td>\n",
       "    </tr>\n",
       "    <tr>\n",
       "      <th>1970</th>\n",
       "      <td>1759</td>\n",
       "      <td>6516</td>\n",
       "      <td>51</td>\n",
       "      <td>0</td>\n",
       "      <td>48.0</td>\n",
       "      <td>TMA</td>\n",
       "      <td>54.0</td>\n",
       "      <td>20.0</td>\n",
       "      <td>AAA-2014J</td>\n",
       "    </tr>\n",
       "    <tr>\n",
       "      <th>88494</th>\n",
       "      <td>25362</td>\n",
       "      <td>8462</td>\n",
       "      <td>-1</td>\n",
       "      <td>1</td>\n",
       "      <td>93.0</td>\n",
       "      <td>TMA</td>\n",
       "      <td>20.0</td>\n",
       "      <td>5.0</td>\n",
       "      <td>DDD-2014J</td>\n",
       "    </tr>\n",
       "    <tr>\n",
       "      <th>90368</th>\n",
       "      <td>25363</td>\n",
       "      <td>8462</td>\n",
       "      <td>-1</td>\n",
       "      <td>1</td>\n",
       "      <td>83.0</td>\n",
       "      <td>TMA</td>\n",
       "      <td>41.0</td>\n",
       "      <td>10.0</td>\n",
       "      <td>DDD-2014J</td>\n",
       "    </tr>\n",
       "  </tbody>\n",
       "</table>\n",
       "</div>"
      ],
      "text/plain": [
       "       id_assessment  id_student  date_submitted  is_banked  score  \\\n",
       "2685            1761        6516             164          0   61.0   \n",
       "2376            1760        6516             116          0   63.0   \n",
       "1756            1758        6516              17          0   60.0   \n",
       "2871            1762        6516             210          0   77.0   \n",
       "1970            1759        6516              51          0   48.0   \n",
       "88494          25362        8462              -1          1   93.0   \n",
       "90368          25363        8462              -1          1   83.0   \n",
       "\n",
       "      assessment_type   date  weight  id_course  \n",
       "2685              TMA  166.0    20.0  AAA-2014J  \n",
       "2376              TMA  117.0    20.0  AAA-2014J  \n",
       "1756              TMA   19.0    10.0  AAA-2014J  \n",
       "2871              TMA  215.0    30.0  AAA-2014J  \n",
       "1970              TMA   54.0    20.0  AAA-2014J  \n",
       "88494             TMA   20.0     5.0  DDD-2014J  \n",
       "90368             TMA   41.0    10.0  DDD-2014J  "
      ]
     },
     "execution_count": 199,
     "metadata": {},
     "output_type": "execute_result"
    }
   ],
   "source": [
    "df = df_assess_merge_1.copy()\n",
    "df['id_course'] = df['code_module'] + \"-\" + df['code_presentation']\n",
    "df = df.drop(['code_module','code_presentation'],axis=1) # 'score','is_banked','weight','date'\n",
    "df = df.sort_values(\"id_student\")\n",
    "df.head(10)[:7]"
   ]
  },
  {
   "cell_type": "code",
   "execution_count": 200,
   "metadata": {},
   "outputs": [],
   "source": [
    "#sel9 = df[df['id_student']==555786]\n",
    "#sel9"
   ]
  },
  {
   "cell_type": "code",
   "execution_count": 201,
   "metadata": {},
   "outputs": [],
   "source": [
    "#sel7 = df[df['id_student']==477812]\n",
    "#sel7"
   ]
  },
  {
   "cell_type": "code",
   "execution_count": 202,
   "metadata": {},
   "outputs": [
    {
     "data": {
      "text/html": [
       "<div>\n",
       "<style scoped>\n",
       "    .dataframe tbody tr th:only-of-type {\n",
       "        vertical-align: middle;\n",
       "    }\n",
       "\n",
       "    .dataframe tbody tr th {\n",
       "        vertical-align: top;\n",
       "    }\n",
       "\n",
       "    .dataframe thead th {\n",
       "        text-align: right;\n",
       "    }\n",
       "</style>\n",
       "<table border=\"1\" class=\"dataframe\">\n",
       "  <thead>\n",
       "    <tr style=\"text-align: right;\">\n",
       "      <th></th>\n",
       "      <th></th>\n",
       "      <th>id_assessment</th>\n",
       "      <th>id_student</th>\n",
       "      <th>date_submitted</th>\n",
       "      <th>is_banked</th>\n",
       "      <th>score</th>\n",
       "      <th>assessment_type</th>\n",
       "      <th>date</th>\n",
       "      <th>weight</th>\n",
       "      <th>id_course</th>\n",
       "    </tr>\n",
       "    <tr>\n",
       "      <th>id_student</th>\n",
       "      <th></th>\n",
       "      <th></th>\n",
       "      <th></th>\n",
       "      <th></th>\n",
       "      <th></th>\n",
       "      <th></th>\n",
       "      <th></th>\n",
       "      <th></th>\n",
       "      <th></th>\n",
       "      <th></th>\n",
       "    </tr>\n",
       "  </thead>\n",
       "  <tbody>\n",
       "    <tr>\n",
       "      <th>6516</th>\n",
       "      <th>1756</th>\n",
       "      <td>1758</td>\n",
       "      <td>6516</td>\n",
       "      <td>17</td>\n",
       "      <td>0</td>\n",
       "      <td>60.0</td>\n",
       "      <td>TMA</td>\n",
       "      <td>19.0</td>\n",
       "      <td>10.0</td>\n",
       "      <td>AAA-2014J</td>\n",
       "    </tr>\n",
       "    <tr>\n",
       "      <th rowspan=\"4\" valign=\"top\">8462</th>\n",
       "      <th>88494</th>\n",
       "      <td>25362</td>\n",
       "      <td>8462</td>\n",
       "      <td>-1</td>\n",
       "      <td>1</td>\n",
       "      <td>93.0</td>\n",
       "      <td>TMA</td>\n",
       "      <td>20.0</td>\n",
       "      <td>5.0</td>\n",
       "      <td>DDD-2014J</td>\n",
       "    </tr>\n",
       "    <tr>\n",
       "      <th>90368</th>\n",
       "      <td>25363</td>\n",
       "      <td>8462</td>\n",
       "      <td>-1</td>\n",
       "      <td>1</td>\n",
       "      <td>83.0</td>\n",
       "      <td>TMA</td>\n",
       "      <td>41.0</td>\n",
       "      <td>10.0</td>\n",
       "      <td>DDD-2014J</td>\n",
       "    </tr>\n",
       "    <tr>\n",
       "      <th>90712</th>\n",
       "      <td>25364</td>\n",
       "      <td>8462</td>\n",
       "      <td>-1</td>\n",
       "      <td>1</td>\n",
       "      <td>83.0</td>\n",
       "      <td>TMA</td>\n",
       "      <td>62.0</td>\n",
       "      <td>10.0</td>\n",
       "      <td>DDD-2014J</td>\n",
       "    </tr>\n",
       "    <tr>\n",
       "      <th>92364</th>\n",
       "      <td>25365</td>\n",
       "      <td>8462</td>\n",
       "      <td>-1</td>\n",
       "      <td>1</td>\n",
       "      <td>87.0</td>\n",
       "      <td>TMA</td>\n",
       "      <td>111.0</td>\n",
       "      <td>25.0</td>\n",
       "      <td>DDD-2014J</td>\n",
       "    </tr>\n",
       "    <tr>\n",
       "      <th>11391</th>\n",
       "      <th>0</th>\n",
       "      <td>1752</td>\n",
       "      <td>11391</td>\n",
       "      <td>18</td>\n",
       "      <td>0</td>\n",
       "      <td>78.0</td>\n",
       "      <td>TMA</td>\n",
       "      <td>19.0</td>\n",
       "      <td>10.0</td>\n",
       "      <td>AAA-2013J</td>\n",
       "    </tr>\n",
       "    <tr>\n",
       "      <th>23629</th>\n",
       "      <th>3285</th>\n",
       "      <td>14984</td>\n",
       "      <td>23629</td>\n",
       "      <td>9</td>\n",
       "      <td>0</td>\n",
       "      <td>67.0</td>\n",
       "      <td>TMA</td>\n",
       "      <td>19.0</td>\n",
       "      <td>5.0</td>\n",
       "      <td>BBB-2013B</td>\n",
       "    </tr>\n",
       "  </tbody>\n",
       "</table>\n",
       "</div>"
      ],
      "text/plain": [
       "                  id_assessment  id_student  date_submitted  is_banked  score  \\\n",
       "id_student                                                                      \n",
       "6516       1756            1758        6516              17          0   60.0   \n",
       "8462       88494          25362        8462              -1          1   93.0   \n",
       "           90368          25363        8462              -1          1   83.0   \n",
       "           90712          25364        8462              -1          1   83.0   \n",
       "           92364          25365        8462              -1          1   87.0   \n",
       "11391      0               1752       11391              18          0   78.0   \n",
       "23629      3285           14984       23629               9          0   67.0   \n",
       "\n",
       "                 assessment_type   date  weight  id_course  \n",
       "id_student                                                  \n",
       "6516       1756              TMA   19.0    10.0  AAA-2014J  \n",
       "8462       88494             TMA   20.0     5.0  DDD-2014J  \n",
       "           90368             TMA   41.0    10.0  DDD-2014J  \n",
       "           90712             TMA   62.0    10.0  DDD-2014J  \n",
       "           92364             TMA  111.0    25.0  DDD-2014J  \n",
       "11391      0                 TMA   19.0    10.0  AAA-2013J  \n",
       "23629      3285              TMA   19.0     5.0  BBB-2013B  "
      ]
     },
     "execution_count": 202,
     "metadata": {},
     "output_type": "execute_result"
    }
   ],
   "source": [
    "# student 6516 only took 1 course, therefore, there should only be 1 assessment left for them, of a value of 17\n",
    "df2 = df.copy()\n",
    "df2 = df2.groupby(by='id_student')\n",
    "df2 = df2.apply(lambda g: g[g['date_submitted'] == g['date_submitted'].min()])\n",
    "df2.head(10)[:7]"
   ]
  },
  {
   "cell_type": "markdown",
   "metadata": {},
   "source": [
    "# Confirm that student of id 537811 and 477812 only have 2 (or close to 2) 'first assessments' (1 per module & presentation)"
   ]
  },
  {
   "cell_type": "code",
   "execution_count": 203,
   "metadata": {},
   "outputs": [
    {
     "data": {
      "text/html": [
       "<div>\n",
       "<style scoped>\n",
       "    .dataframe tbody tr th:only-of-type {\n",
       "        vertical-align: middle;\n",
       "    }\n",
       "\n",
       "    .dataframe tbody tr th {\n",
       "        vertical-align: top;\n",
       "    }\n",
       "\n",
       "    .dataframe thead th {\n",
       "        text-align: right;\n",
       "    }\n",
       "</style>\n",
       "<table border=\"1\" class=\"dataframe\">\n",
       "  <thead>\n",
       "    <tr style=\"text-align: right;\">\n",
       "      <th></th>\n",
       "      <th></th>\n",
       "      <th>id_assessment</th>\n",
       "      <th>id_student</th>\n",
       "      <th>date_submitted</th>\n",
       "      <th>is_banked</th>\n",
       "      <th>score</th>\n",
       "      <th>assessment_type</th>\n",
       "      <th>date</th>\n",
       "      <th>weight</th>\n",
       "      <th>id_course</th>\n",
       "    </tr>\n",
       "    <tr>\n",
       "      <th>id_student</th>\n",
       "      <th></th>\n",
       "      <th></th>\n",
       "      <th></th>\n",
       "      <th></th>\n",
       "      <th></th>\n",
       "      <th></th>\n",
       "      <th></th>\n",
       "      <th></th>\n",
       "      <th></th>\n",
       "      <th></th>\n",
       "    </tr>\n",
       "  </thead>\n",
       "  <tbody>\n",
       "    <tr>\n",
       "      <th rowspan=\"12\" valign=\"top\">477812</th>\n",
       "      <th>133368</th>\n",
       "      <td>34886</td>\n",
       "      <td>477812</td>\n",
       "      <td>-1</td>\n",
       "      <td>1</td>\n",
       "      <td>90.0</td>\n",
       "      <td>TMA</td>\n",
       "      <td>24.0</td>\n",
       "      <td>12.5</td>\n",
       "      <td>FFF-2014B</td>\n",
       "    </tr>\n",
       "    <tr>\n",
       "      <th>138653</th>\n",
       "      <td>34892</td>\n",
       "      <td>477812</td>\n",
       "      <td>-1</td>\n",
       "      <td>1</td>\n",
       "      <td>94.0</td>\n",
       "      <td>CMA</td>\n",
       "      <td>227.0</td>\n",
       "      <td>0.0</td>\n",
       "      <td>FFF-2014B</td>\n",
       "    </tr>\n",
       "    <tr>\n",
       "      <th>141182</th>\n",
       "      <td>34896</td>\n",
       "      <td>477812</td>\n",
       "      <td>-1</td>\n",
       "      <td>1</td>\n",
       "      <td>92.0</td>\n",
       "      <td>CMA</td>\n",
       "      <td>227.0</td>\n",
       "      <td>0.0</td>\n",
       "      <td>FFF-2014B</td>\n",
       "    </tr>\n",
       "    <tr>\n",
       "      <th>136157</th>\n",
       "      <td>34889</td>\n",
       "      <td>477812</td>\n",
       "      <td>-1</td>\n",
       "      <td>1</td>\n",
       "      <td>89.0</td>\n",
       "      <td>TMA</td>\n",
       "      <td>129.0</td>\n",
       "      <td>25.0</td>\n",
       "      <td>FFF-2014B</td>\n",
       "    </tr>\n",
       "    <tr>\n",
       "      <th>136382</th>\n",
       "      <td>34890</td>\n",
       "      <td>477812</td>\n",
       "      <td>-1</td>\n",
       "      <td>1</td>\n",
       "      <td>84.0</td>\n",
       "      <td>TMA</td>\n",
       "      <td>171.0</td>\n",
       "      <td>25.0</td>\n",
       "      <td>FFF-2014B</td>\n",
       "    </tr>\n",
       "    <tr>\n",
       "      <th>140951</th>\n",
       "      <td>34895</td>\n",
       "      <td>477812</td>\n",
       "      <td>-1</td>\n",
       "      <td>1</td>\n",
       "      <td>95.0</td>\n",
       "      <td>CMA</td>\n",
       "      <td>227.0</td>\n",
       "      <td>0.0</td>\n",
       "      <td>FFF-2014B</td>\n",
       "    </tr>\n",
       "    <tr>\n",
       "      <th>134819</th>\n",
       "      <td>34888</td>\n",
       "      <td>477812</td>\n",
       "      <td>-1</td>\n",
       "      <td>1</td>\n",
       "      <td>87.0</td>\n",
       "      <td>TMA</td>\n",
       "      <td>87.0</td>\n",
       "      <td>25.0</td>\n",
       "      <td>FFF-2014B</td>\n",
       "    </tr>\n",
       "    <tr>\n",
       "      <th>139763</th>\n",
       "      <td>34894</td>\n",
       "      <td>477812</td>\n",
       "      <td>-1</td>\n",
       "      <td>1</td>\n",
       "      <td>76.0</td>\n",
       "      <td>CMA</td>\n",
       "      <td>227.0</td>\n",
       "      <td>0.0</td>\n",
       "      <td>FFF-2014B</td>\n",
       "    </tr>\n",
       "    <tr>\n",
       "      <th>133706</th>\n",
       "      <td>34887</td>\n",
       "      <td>477812</td>\n",
       "      <td>-1</td>\n",
       "      <td>1</td>\n",
       "      <td>86.0</td>\n",
       "      <td>TMA</td>\n",
       "      <td>52.0</td>\n",
       "      <td>12.5</td>\n",
       "      <td>FFF-2014B</td>\n",
       "    </tr>\n",
       "    <tr>\n",
       "      <th>137228</th>\n",
       "      <td>34891</td>\n",
       "      <td>477812</td>\n",
       "      <td>-1</td>\n",
       "      <td>1</td>\n",
       "      <td>93.0</td>\n",
       "      <td>CMA</td>\n",
       "      <td>227.0</td>\n",
       "      <td>0.0</td>\n",
       "      <td>FFF-2014B</td>\n",
       "    </tr>\n",
       "    <tr>\n",
       "      <th>142002</th>\n",
       "      <td>34897</td>\n",
       "      <td>477812</td>\n",
       "      <td>-1</td>\n",
       "      <td>1</td>\n",
       "      <td>87.0</td>\n",
       "      <td>CMA</td>\n",
       "      <td>227.0</td>\n",
       "      <td>0.0</td>\n",
       "      <td>FFF-2014B</td>\n",
       "    </tr>\n",
       "    <tr>\n",
       "      <th>138910</th>\n",
       "      <td>34893</td>\n",
       "      <td>477812</td>\n",
       "      <td>-1</td>\n",
       "      <td>1</td>\n",
       "      <td>81.0</td>\n",
       "      <td>CMA</td>\n",
       "      <td>227.0</td>\n",
       "      <td>0.0</td>\n",
       "      <td>FFF-2014B</td>\n",
       "    </tr>\n",
       "  </tbody>\n",
       "</table>\n",
       "</div>"
      ],
      "text/plain": [
       "                   id_assessment  id_student  date_submitted  is_banked  \\\n",
       "id_student                                                                \n",
       "477812     133368          34886      477812              -1          1   \n",
       "           138653          34892      477812              -1          1   \n",
       "           141182          34896      477812              -1          1   \n",
       "           136157          34889      477812              -1          1   \n",
       "           136382          34890      477812              -1          1   \n",
       "           140951          34895      477812              -1          1   \n",
       "           134819          34888      477812              -1          1   \n",
       "           139763          34894      477812              -1          1   \n",
       "           133706          34887      477812              -1          1   \n",
       "           137228          34891      477812              -1          1   \n",
       "           142002          34897      477812              -1          1   \n",
       "           138910          34893      477812              -1          1   \n",
       "\n",
       "                   score assessment_type   date  weight  id_course  \n",
       "id_student                                                          \n",
       "477812     133368   90.0             TMA   24.0    12.5  FFF-2014B  \n",
       "           138653   94.0             CMA  227.0     0.0  FFF-2014B  \n",
       "           141182   92.0             CMA  227.0     0.0  FFF-2014B  \n",
       "           136157   89.0             TMA  129.0    25.0  FFF-2014B  \n",
       "           136382   84.0             TMA  171.0    25.0  FFF-2014B  \n",
       "           140951   95.0             CMA  227.0     0.0  FFF-2014B  \n",
       "           134819   87.0             TMA   87.0    25.0  FFF-2014B  \n",
       "           139763   76.0             CMA  227.0     0.0  FFF-2014B  \n",
       "           133706   86.0             TMA   52.0    12.5  FFF-2014B  \n",
       "           137228   93.0             CMA  227.0     0.0  FFF-2014B  \n",
       "           142002   87.0             CMA  227.0     0.0  FFF-2014B  \n",
       "           138910   81.0             CMA  227.0     0.0  FFF-2014B  "
      ]
     },
     "execution_count": 203,
     "metadata": {},
     "output_type": "execute_result"
    }
   ],
   "source": [
    "df2.id_student.value_counts()\n",
    "sel6 = df2[df2['id_student']==477812]\n",
    "sel6"
   ]
  },
  {
   "cell_type": "code",
   "execution_count": 204,
   "metadata": {},
   "outputs": [],
   "source": [
    "df2 = df2.drop_duplicates(['id_student','id_course'])"
   ]
  },
  {
   "cell_type": "code",
   "execution_count": 205,
   "metadata": {},
   "outputs": [
    {
     "data": {
      "text/html": [
       "<div>\n",
       "<style scoped>\n",
       "    .dataframe tbody tr th:only-of-type {\n",
       "        vertical-align: middle;\n",
       "    }\n",
       "\n",
       "    .dataframe tbody tr th {\n",
       "        vertical-align: top;\n",
       "    }\n",
       "\n",
       "    .dataframe thead th {\n",
       "        text-align: right;\n",
       "    }\n",
       "</style>\n",
       "<table border=\"1\" class=\"dataframe\">\n",
       "  <thead>\n",
       "    <tr style=\"text-align: right;\">\n",
       "      <th></th>\n",
       "      <th></th>\n",
       "      <th>id_assessment</th>\n",
       "      <th>id_student</th>\n",
       "      <th>date_submitted</th>\n",
       "      <th>is_banked</th>\n",
       "      <th>score</th>\n",
       "      <th>assessment_type</th>\n",
       "      <th>date</th>\n",
       "      <th>weight</th>\n",
       "      <th>id_course</th>\n",
       "    </tr>\n",
       "    <tr>\n",
       "      <th>id_student</th>\n",
       "      <th></th>\n",
       "      <th></th>\n",
       "      <th></th>\n",
       "      <th></th>\n",
       "      <th></th>\n",
       "      <th></th>\n",
       "      <th></th>\n",
       "      <th></th>\n",
       "      <th></th>\n",
       "      <th></th>\n",
       "    </tr>\n",
       "  </thead>\n",
       "  <tbody>\n",
       "    <tr>\n",
       "      <th rowspan=\"2\" valign=\"top\">555786</th>\n",
       "      <th>117907</th>\n",
       "      <td>34873</td>\n",
       "      <td>555786</td>\n",
       "      <td>18</td>\n",
       "      <td>0</td>\n",
       "      <td>72.0</td>\n",
       "      <td>TMA</td>\n",
       "      <td>19.0</td>\n",
       "      <td>12.5</td>\n",
       "      <td>FFF-2013J</td>\n",
       "    </tr>\n",
       "    <tr>\n",
       "      <th>105169</th>\n",
       "      <td>34860</td>\n",
       "      <td>555786</td>\n",
       "      <td>18</td>\n",
       "      <td>0</td>\n",
       "      <td>92.0</td>\n",
       "      <td>TMA</td>\n",
       "      <td>19.0</td>\n",
       "      <td>12.5</td>\n",
       "      <td>FFF-2013B</td>\n",
       "    </tr>\n",
       "  </tbody>\n",
       "</table>\n",
       "</div>"
      ],
      "text/plain": [
       "                   id_assessment  id_student  date_submitted  is_banked  \\\n",
       "id_student                                                                \n",
       "555786     117907          34873      555786              18          0   \n",
       "           105169          34860      555786              18          0   \n",
       "\n",
       "                   score assessment_type  date  weight  id_course  \n",
       "id_student                                                         \n",
       "555786     117907   72.0             TMA  19.0    12.5  FFF-2013J  \n",
       "           105169   92.0             TMA  19.0    12.5  FFF-2013B  "
      ]
     },
     "execution_count": 205,
     "metadata": {},
     "output_type": "execute_result"
    }
   ],
   "source": [
    "sel8 = df2[df2['id_student']==555786]\n",
    "sel8"
   ]
  },
  {
   "cell_type": "code",
   "execution_count": 206,
   "metadata": {},
   "outputs": [
    {
     "data": {
      "text/plain": [
       "(23436, 9)"
      ]
     },
     "execution_count": 206,
     "metadata": {},
     "output_type": "execute_result"
    }
   ],
   "source": [
    "#df2.id_student.value_counts()\n",
    "df2.shape"
   ]
  },
  {
   "cell_type": "code",
   "execution_count": 176,
   "metadata": {},
   "outputs": [],
   "source": []
  },
  {
   "cell_type": "markdown",
   "metadata": {},
   "source": [
    "# Ready to start phase 2: clean each dataframe\n",
    "- check that dtypes are appropriate\n",
    "- check for dups\n",
    "- check null/NaN/missing values in rows/columns"
   ]
  },
  {
   "cell_type": "markdown",
   "metadata": {},
   "source": [
    "# Phase 3: merge all dataframes"
   ]
  },
  {
   "cell_type": "markdown",
   "metadata": {},
   "source": [
    "# Phase 4: export single dataframe (that was cleaned & merged)"
   ]
  },
  {
   "cell_type": "code",
   "execution_count": null,
   "metadata": {},
   "outputs": [],
   "source": [
    "#selection = df_assess_merge_1[df_assess_merge_1['id_student']==537811]\n",
    "#selection2 = selection.head(15)[5:]\n",
    "#selection2\n",
    "#sel3 = selection2.groupby(by='code_module')\n",
    "#sel3 = sel3.apply(lambda g: g[g['date_submitted'] == g['date_submitted'].min()])\n",
    "#sel3.head(15)"
   ]
  },
  {
   "cell_type": "code",
   "execution_count": null,
   "metadata": {},
   "outputs": [],
   "source": [
    "#grouped = df_assess_merge_1.groupby(['id_student','code_module'])\n",
    "#sel4['date_submitted'] = sel4[sel4['date_submitted'].min()]"
   ]
  },
  {
   "cell_type": "code",
   "execution_count": null,
   "metadata": {},
   "outputs": [],
   "source": [
    "#grouped = grouped.filter(lambda x: x['date_submitted'] == x['date_submitted'].min())"
   ]
  },
  {
   "cell_type": "code",
   "execution_count": null,
   "metadata": {},
   "outputs": [],
   "source": [
    "#sel4.head(5)\n",
    "#sel4.id_student.value_counts()"
   ]
  },
  {
   "cell_type": "code",
   "execution_count": null,
   "metadata": {},
   "outputs": [],
   "source": []
  },
  {
   "cell_type": "code",
   "execution_count": null,
   "metadata": {},
   "outputs": [],
   "source": [
    "#groups = df_assess_merge_1.groupby(by=['id_student'])\n",
    "#groups = groups.apply(lambda g: g[g['date_submitted'] == g['date_submitted'].min()])"
   ]
  },
  {
   "cell_type": "code",
   "execution_count": null,
   "metadata": {},
   "outputs": [],
   "source": [
    "#groups.head(10)"
   ]
  },
  {
   "cell_type": "code",
   "execution_count": null,
   "metadata": {},
   "outputs": [],
   "source": [
    "#student_reg.dtypes"
   ]
  },
  {
   "cell_type": "code",
   "execution_count": null,
   "metadata": {},
   "outputs": [],
   "source": [
    "#print(student_vle.shape)\n",
    "#student_vle.head()"
   ]
  },
  {
   "cell_type": "code",
   "execution_count": null,
   "metadata": {},
   "outputs": [],
   "source": [
    "#student_vle.count()"
   ]
  },
  {
   "cell_type": "code",
   "execution_count": null,
   "metadata": {},
   "outputs": [],
   "source": [
    "#student_vle.dtypes"
   ]
  },
  {
   "cell_type": "code",
   "execution_count": null,
   "metadata": {},
   "outputs": [],
   "source": [
    "#print(vle.shape)\n",
    "#vle.head()"
   ]
  },
  {
   "cell_type": "code",
   "execution_count": null,
   "metadata": {},
   "outputs": [],
   "source": [
    "#vle.dtypes"
   ]
  },
  {
   "cell_type": "code",
   "execution_count": null,
   "metadata": {},
   "outputs": [],
   "source": [
    "#vle.count()"
   ]
  },
  {
   "cell_type": "code",
   "execution_count": null,
   "metadata": {},
   "outputs": [],
   "source": [
    "df_student2 = pd.merge(student_info, student_assess, on = \"id_student\")"
   ]
  },
  {
   "cell_type": "code",
   "execution_count": null,
   "metadata": {},
   "outputs": [],
   "source": [
    "df_student2.head()"
   ]
  },
  {
   "cell_type": "code",
   "execution_count": null,
   "metadata": {},
   "outputs": [],
   "source": [
    "student_reg = student_reg.drop(['code_module','code_presentation'], axis=1)\n",
    "student_vle = student_vle.drop(['date'],axis=1)"
   ]
  },
  {
   "cell_type": "code",
   "execution_count": null,
   "metadata": {},
   "outputs": [],
   "source": [
    "df_student = pd.merge(student_vle, student_reg, on=\"id_student\")"
   ]
  },
  {
   "cell_type": "code",
   "execution_count": null,
   "metadata": {},
   "outputs": [],
   "source": [
    "df_student.head()"
   ]
  },
  {
   "cell_type": "code",
   "execution_count": null,
   "metadata": {},
   "outputs": [],
   "source": [
    "vle = vle.drop(['code_module','code_presentation'], axis=1)"
   ]
  },
  {
   "cell_type": "code",
   "execution_count": null,
   "metadata": {},
   "outputs": [],
   "source": [
    "df_student3 = pd.merge(df_student, vle, on=\"id_site\")"
   ]
  },
  {
   "cell_type": "code",
   "execution_count": null,
   "metadata": {},
   "outputs": [],
   "source": [
    "df_student3.head()"
   ]
  },
  {
   "cell_type": "code",
   "execution_count": null,
   "metadata": {},
   "outputs": [],
   "source": [
    "assessments = assessments.drop(['code_module','code_presentation'], axis=1)"
   ]
  },
  {
   "cell_type": "code",
   "execution_count": null,
   "metadata": {},
   "outputs": [],
   "source": [
    "pd.set_option('display.max_columns', None)  \n",
    "pd.set_option('display.expand_frame_repr', False)\n",
    "pd.set_option('max_colwidth', -1)"
   ]
  },
  {
   "cell_type": "code",
   "execution_count": null,
   "metadata": {},
   "outputs": [],
   "source": [
    "df_student4 = pd.merge(df_student2, assessments, on = \"id_assessment\")"
   ]
  },
  {
   "cell_type": "code",
   "execution_count": null,
   "metadata": {},
   "outputs": [],
   "source": [
    "df_student4.head()"
   ]
  },
  {
   "cell_type": "code",
   "execution_count": null,
   "metadata": {},
   "outputs": [],
   "source": [
    "df_student4.columns.values"
   ]
  },
  {
   "cell_type": "code",
   "execution_count": null,
   "metadata": {},
   "outputs": [],
   "source": [
    "df_student3 = df_student3.drop(['code_module','code_presentation'],axis=1)\n",
    "df_student3.columns.values"
   ]
  },
  {
   "cell_type": "code",
   "execution_count": null,
   "metadata": {},
   "outputs": [],
   "source": [
    "#df_Final = pd.merge(df_student4, df_student3, on=\"id_student\")"
   ]
  },
  {
   "cell_type": "code",
   "execution_count": null,
   "metadata": {},
   "outputs": [],
   "source": [
    "#df_Final.head()"
   ]
  },
  {
   "cell_type": "code",
   "execution_count": null,
   "metadata": {
    "scrolled": true
   },
   "outputs": [],
   "source": [
    "#df_Final.dtypes"
   ]
  },
  {
   "cell_type": "code",
   "execution_count": null,
   "metadata": {},
   "outputs": [],
   "source": [
    "#total missing values\n",
    "#df_Final.isnull().sum()"
   ]
  },
  {
   "cell_type": "code",
   "execution_count": null,
   "metadata": {},
   "outputs": [],
   "source": [
    "#only dataframe with non-null year column values\n",
    "df_Final = df_Final.loc[df_Final['Date'].notnull()]\n",
    "\n",
    "#change year column into a string\n",
    "#need to use string type for getYear function below\n",
    "df_Final['Date'] = df_Final['Date'].astype(str)"
   ]
  }
 ],
 "metadata": {
  "kernelspec": {
   "display_name": "Python 3",
   "language": "python",
   "name": "python3"
  },
  "language_info": {
   "codemirror_mode": {
    "name": "ipython",
    "version": 3
   },
   "file_extension": ".py",
   "mimetype": "text/x-python",
   "name": "python",
   "nbconvert_exporter": "python",
   "pygments_lexer": "ipython3",
   "version": "3.7.1"
  }
 },
 "nbformat": 4,
 "nbformat_minor": 2
}
