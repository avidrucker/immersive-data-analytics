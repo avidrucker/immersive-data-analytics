{
 "cells": [
  {
   "cell_type": "markdown",
   "metadata": {},
   "source": [
    "# Get ijson library to deal with huge JSON datasets"
   ]
  },
  {
   "cell_type": "code",
   "execution_count": 7,
   "metadata": {},
   "outputs": [
    {
     "name": "stdout",
     "output_type": "stream",
     "text": [
      "Collecting ijson\n",
      "  Using cached https://files.pythonhosted.org/packages/7f/e9/8508c5f4987ba238a2b169e582c1f70a47272b22a2f1fb06b9318201bb9e/ijson-2.3-py2.py3-none-any.whl\n",
      "Installing collected packages: ijson\n",
      "Successfully installed ijson-2.3\n"
     ]
    },
    {
     "name": "stderr",
     "output_type": "stream",
     "text": [
      "You are using pip version 9.0.1, however version 19.1 is available.\n",
      "You should consider upgrading via the 'python -m pip install --upgrade pip' command.\n"
     ]
    }
   ],
   "source": [
    "#https://jakevdp.github.io/blog/2017/12/05/installing-python-packages-from-jupyter/#How-to-use-Pip-from-the-Jupyter-Notebook\n",
    "import sys\n",
    "!{sys.executable} -m pip install ijson"
   ]
  },
  {
   "cell_type": "code",
   "execution_count": 8,
   "metadata": {
    "collapsed": true
   },
   "outputs": [],
   "source": [
    "import ijson"
   ]
  },
  {
   "cell_type": "code",
   "execution_count": null,
   "metadata": {
    "collapsed": true
   },
   "outputs": [],
   "source": [
    "# Stumble onto walkthrough of working with large datasets <_<"
   ]
  },
  {
   "cell_type": "code",
   "execution_count": 9,
   "metadata": {
    "collapsed": true
   },
   "outputs": [],
   "source": [
    "# Thank you Prof for the smaller JSON file!!!\n",
    "\n",
    "file = r\"datasets/MoCoViolations_2018.json\"\n",
    "\n",
    "# https://www.dataquest.io/blog/python-json-tutorial/ # found through Google search: load json file into pandas\n",
    "\n",
    "with open(file, 'r') as f:\n",
    "    objects = ijson.items(f, 'meta.view.columns.item')\n",
    "    columns = list(objects)"
   ]
  },
  {
   "cell_type": "code",
   "execution_count": 13,
   "metadata": {},
   "outputs": [
    {
     "data": {
      "text/plain": [
       "[':sid',\n",
       " ':id',\n",
       " ':position',\n",
       " ':created_at',\n",
       " ':created_meta',\n",
       " ':updated_at',\n",
       " ':updated_meta',\n",
       " ':meta',\n",
       " 'seq_id',\n",
       " 'date_of_stop',\n",
       " 'time_of_stop',\n",
       " 'agency',\n",
       " 'subagency',\n",
       " 'description',\n",
       " 'location',\n",
       " 'latitude',\n",
       " 'longitude',\n",
       " 'accident',\n",
       " 'belts',\n",
       " 'personal_injury',\n",
       " 'property_damage',\n",
       " 'fatal',\n",
       " 'commercial_license',\n",
       " 'hazmat',\n",
       " 'commercial_vehicle',\n",
       " 'alcohol',\n",
       " 'work_zone',\n",
       " 'state',\n",
       " 'vehicle_type',\n",
       " 'year',\n",
       " 'make',\n",
       " 'model',\n",
       " 'color',\n",
       " 'violation_type',\n",
       " 'charge',\n",
       " 'article',\n",
       " 'contributed_to_accident',\n",
       " 'race',\n",
       " 'gender',\n",
       " 'driver_city',\n",
       " 'driver_state',\n",
       " 'dl_state',\n",
       " 'arrest_type',\n",
       " 'geolocation',\n",
       " ':@computed_region_vu5j_pcmz',\n",
       " ':@computed_region_tx5f_5em3',\n",
       " ':@computed_region_kbsp_ykn9',\n",
       " ':@computed_region_d7bw_bq6x',\n",
       " ':@computed_region_rbt8_3x7n']"
      ]
     },
     "execution_count": 13,
     "metadata": {},
     "output_type": "execute_result"
    }
   ],
   "source": [
    "column_names = [col[\"fieldName\"] for col in columns]\n",
    "column_names"
   ]
  },
  {
   "cell_type": "code",
   "execution_count": 16,
   "metadata": {
    "collapsed": true
   },
   "outputs": [],
   "source": [
    "wants = {\n",
    "    \"Date of Stop\": 9,\n",
    "    \"Time of Stop\": 10,\n",
    "    \"Agency\": 11,\n",
    "    \"Subagency\": 12,\n",
    "    \"Description\": 13,\n",
    "    \"Location\": 14,\n",
    "    \"Latitude\": 15,\n",
    "    \"Longitude\": 16,\n",
    "    \"Vehicle Type\": 28,\n",
    "    \"Vehicle Year\": 29,\n",
    "    \"Vehicle Make\": 30,\n",
    "    \"Vehicle Model\": 31,\n",
    "    \"Vehicle Color\": 32,\n",
    "    \"Violation Type\": 33,\n",
    "    \"Race\": 37,\n",
    "    \"Gender\": 38,\n",
    "    \"Driver's State\": 40,\n",
    "    \"Driver's License State\": 41,\n",
    "    \"Arrest Type\": 42\n",
    "}\n",
    "\n",
    "target_cols = []\n",
    "\n",
    "for v in wants.values():\n",
    "    target_cols.append(column_names[v])"
   ]
  },
  {
   "cell_type": "code",
   "execution_count": 17,
   "metadata": {},
   "outputs": [
    {
     "data": {
      "text/plain": [
       "['date_of_stop',\n",
       " 'time_of_stop',\n",
       " 'agency',\n",
       " 'subagency',\n",
       " 'description',\n",
       " 'location',\n",
       " 'latitude',\n",
       " 'longitude',\n",
       " 'vehicle_type',\n",
       " 'year',\n",
       " 'make',\n",
       " 'model',\n",
       " 'color',\n",
       " 'violation_type',\n",
       " 'race',\n",
       " 'gender',\n",
       " 'driver_state',\n",
       " 'dl_state',\n",
       " 'arrest_type']"
      ]
     },
     "execution_count": 17,
     "metadata": {},
     "output_type": "execute_result"
    }
   ],
   "source": [
    "target_cols"
   ]
  },
  {
   "cell_type": "code",
   "execution_count": 18,
   "metadata": {
    "collapsed": true
   },
   "outputs": [],
   "source": [
    "data = []\n",
    "with open(file, 'r') as f:\n",
    "    objects = ijson.items(f, 'data.item')\n",
    "    for row in objects:\n",
    "        selected_row = []\n",
    "        for item in target_cols:\n",
    "           selected_row.append(row[column_names.index(item)])\n",
    "        data.append(selected_row)"
   ]
  },
  {
   "cell_type": "code",
   "execution_count": 19,
   "metadata": {
    "collapsed": true
   },
   "outputs": [],
   "source": [
    "import pandas as pd"
   ]
  },
  {
   "cell_type": "code",
   "execution_count": 20,
   "metadata": {
    "collapsed": true
   },
   "outputs": [],
   "source": [
    "df = pd.DataFrame(data, columns=target_cols)"
   ]
  },
  {
   "cell_type": "code",
   "execution_count": 32,
   "metadata": {},
   "outputs": [
    {
     "data": {
      "text/html": [
       "<div>\n",
       "<style>\n",
       "    .dataframe thead tr:only-child th {\n",
       "        text-align: right;\n",
       "    }\n",
       "\n",
       "    .dataframe thead th {\n",
       "        text-align: left;\n",
       "    }\n",
       "\n",
       "    .dataframe tbody tr th {\n",
       "        vertical-align: top;\n",
       "    }\n",
       "</style>\n",
       "<table border=\"1\" class=\"dataframe\">\n",
       "  <thead>\n",
       "    <tr style=\"text-align: right;\">\n",
       "      <th></th>\n",
       "      <th>date_of_stop</th>\n",
       "      <th>time_of_stop</th>\n",
       "      <th>agency</th>\n",
       "      <th>subagency</th>\n",
       "      <th>description</th>\n",
       "      <th>location</th>\n",
       "      <th>latitude</th>\n",
       "      <th>longitude</th>\n",
       "      <th>vehicle_type</th>\n",
       "      <th>year</th>\n",
       "      <th>make</th>\n",
       "      <th>model</th>\n",
       "      <th>color</th>\n",
       "      <th>violation_type</th>\n",
       "      <th>race</th>\n",
       "      <th>gender</th>\n",
       "      <th>driver_state</th>\n",
       "      <th>dl_state</th>\n",
       "      <th>arrest_type</th>\n",
       "      <th>date</th>\n",
       "    </tr>\n",
       "  </thead>\n",
       "  <tbody>\n",
       "    <tr>\n",
       "      <th>0</th>\n",
       "      <td>2018-12-31T00:00:00</td>\n",
       "      <td>23:56:00</td>\n",
       "      <td>MCP</td>\n",
       "      <td>1st District, Rockville</td>\n",
       "      <td>FAILURE OF VEH. ON HWY. TO DISPLAY LIGHTED LAM...</td>\n",
       "      <td>355 @ FIRST ST</td>\n",
       "      <td>39.077920</td>\n",
       "      <td>-77.140412</td>\n",
       "      <td>02 - Automobile</td>\n",
       "      <td>2007</td>\n",
       "      <td>TOYOTA</td>\n",
       "      <td>COROLLA</td>\n",
       "      <td>BLUE</td>\n",
       "      <td>Warning</td>\n",
       "      <td>BLACK</td>\n",
       "      <td>M</td>\n",
       "      <td>MD</td>\n",
       "      <td>MD</td>\n",
       "      <td>A - Marked Patrol</td>\n",
       "      <td>2018-12-31 23:56:00</td>\n",
       "    </tr>\n",
       "    <tr>\n",
       "      <th>1</th>\n",
       "      <td>2018-12-31T00:00:00</td>\n",
       "      <td>23:52:00</td>\n",
       "      <td>MCP</td>\n",
       "      <td>6th District, Gaithersburg / Montgomery Village</td>\n",
       "      <td>FAILURE TO DISPLAY TWO LIGHTED FRONT LAMPS WHE...</td>\n",
       "      <td>N FREDERICK AVE @ ODENDHAL AVE</td>\n",
       "      <td>39.148677</td>\n",
       "      <td>-77.206343</td>\n",
       "      <td>02 - Automobile</td>\n",
       "      <td>2006</td>\n",
       "      <td>LEXUS</td>\n",
       "      <td>4S</td>\n",
       "      <td>GRAY</td>\n",
       "      <td>Warning</td>\n",
       "      <td>HISPANIC</td>\n",
       "      <td>M</td>\n",
       "      <td>MD</td>\n",
       "      <td>MD</td>\n",
       "      <td>A - Marked Patrol</td>\n",
       "      <td>2018-12-31 23:52:00</td>\n",
       "    </tr>\n",
       "    <tr>\n",
       "      <th>2</th>\n",
       "      <td>2018-12-31T00:00:00</td>\n",
       "      <td>23:52:00</td>\n",
       "      <td>MCP</td>\n",
       "      <td>6th District, Gaithersburg / Montgomery Village</td>\n",
       "      <td>FAILURE OF VEH. ON HWY. TO DISPLAY LIGHTED LAM...</td>\n",
       "      <td>N FREDERICK AVE @ ODENDHAL AVE</td>\n",
       "      <td>39.148677</td>\n",
       "      <td>-77.206343</td>\n",
       "      <td>02 - Automobile</td>\n",
       "      <td>2006</td>\n",
       "      <td>LEXUS</td>\n",
       "      <td>4S</td>\n",
       "      <td>GRAY</td>\n",
       "      <td>Warning</td>\n",
       "      <td>HISPANIC</td>\n",
       "      <td>M</td>\n",
       "      <td>MD</td>\n",
       "      <td>MD</td>\n",
       "      <td>A - Marked Patrol</td>\n",
       "      <td>2018-12-31 23:52:00</td>\n",
       "    </tr>\n",
       "    <tr>\n",
       "      <th>3</th>\n",
       "      <td>2018-12-31T00:00:00</td>\n",
       "      <td>23:45:00</td>\n",
       "      <td>MCP</td>\n",
       "      <td>1st District, Rockville</td>\n",
       "      <td>FAILURE OF VEH. ON HWY. TO DISPLAY LIGHTED LAM...</td>\n",
       "      <td>355 @ BEAL</td>\n",
       "      <td>39.085450</td>\n",
       "      <td>-77.145103</td>\n",
       "      <td>02 - Automobile</td>\n",
       "      <td>2017</td>\n",
       "      <td>TOYOTA</td>\n",
       "      <td>COROLLA</td>\n",
       "      <td>GRAY</td>\n",
       "      <td>Warning</td>\n",
       "      <td>WHITE</td>\n",
       "      <td>F</td>\n",
       "      <td>MD</td>\n",
       "      <td>MD</td>\n",
       "      <td>A - Marked Patrol</td>\n",
       "      <td>2018-12-31 23:45:00</td>\n",
       "    </tr>\n",
       "    <tr>\n",
       "      <th>4</th>\n",
       "      <td>2018-12-31T00:00:00</td>\n",
       "      <td>23:44:00</td>\n",
       "      <td>MCP</td>\n",
       "      <td>Headquarters and Special Operations</td>\n",
       "      <td>FAILURE TO DRIVE VEHICLE ON RIGHT HALF OF ROAD...</td>\n",
       "      <td>FENTON ST @ COLESVILLE RD</td>\n",
       "      <td>38.997515</td>\n",
       "      <td>-77.026777</td>\n",
       "      <td>02 - Automobile</td>\n",
       "      <td>2016</td>\n",
       "      <td>CHEVROLET</td>\n",
       "      <td>IMPALA</td>\n",
       "      <td>BLACK</td>\n",
       "      <td>Warning</td>\n",
       "      <td>BLACK</td>\n",
       "      <td>M</td>\n",
       "      <td>VA</td>\n",
       "      <td>VA</td>\n",
       "      <td>A - Marked Patrol</td>\n",
       "      <td>2018-12-31 23:44:00</td>\n",
       "    </tr>\n",
       "  </tbody>\n",
       "</table>\n",
       "</div>"
      ],
      "text/plain": [
       "          date_of_stop time_of_stop agency  \\\n",
       "0  2018-12-31T00:00:00     23:56:00    MCP   \n",
       "1  2018-12-31T00:00:00     23:52:00    MCP   \n",
       "2  2018-12-31T00:00:00     23:52:00    MCP   \n",
       "3  2018-12-31T00:00:00     23:45:00    MCP   \n",
       "4  2018-12-31T00:00:00     23:44:00    MCP   \n",
       "\n",
       "                                         subagency  \\\n",
       "0                          1st District, Rockville   \n",
       "1  6th District, Gaithersburg / Montgomery Village   \n",
       "2  6th District, Gaithersburg / Montgomery Village   \n",
       "3                          1st District, Rockville   \n",
       "4              Headquarters and Special Operations   \n",
       "\n",
       "                                         description  \\\n",
       "0  FAILURE OF VEH. ON HWY. TO DISPLAY LIGHTED LAM...   \n",
       "1  FAILURE TO DISPLAY TWO LIGHTED FRONT LAMPS WHE...   \n",
       "2  FAILURE OF VEH. ON HWY. TO DISPLAY LIGHTED LAM...   \n",
       "3  FAILURE OF VEH. ON HWY. TO DISPLAY LIGHTED LAM...   \n",
       "4  FAILURE TO DRIVE VEHICLE ON RIGHT HALF OF ROAD...   \n",
       "\n",
       "                         location   latitude  longitude     vehicle_type  \\\n",
       "0                  355 @ FIRST ST  39.077920 -77.140412  02 - Automobile   \n",
       "1  N FREDERICK AVE @ ODENDHAL AVE  39.148677 -77.206343  02 - Automobile   \n",
       "2  N FREDERICK AVE @ ODENDHAL AVE  39.148677 -77.206343  02 - Automobile   \n",
       "3                      355 @ BEAL  39.085450 -77.145103  02 - Automobile   \n",
       "4       FENTON ST @ COLESVILLE RD  38.997515 -77.026777  02 - Automobile   \n",
       "\n",
       "   year       make    model  color violation_type      race gender  \\\n",
       "0  2007     TOYOTA  COROLLA   BLUE        Warning     BLACK      M   \n",
       "1  2006      LEXUS       4S   GRAY        Warning  HISPANIC      M   \n",
       "2  2006      LEXUS       4S   GRAY        Warning  HISPANIC      M   \n",
       "3  2017     TOYOTA  COROLLA   GRAY        Warning     WHITE      F   \n",
       "4  2016  CHEVROLET   IMPALA  BLACK        Warning     BLACK      M   \n",
       "\n",
       "  driver_state dl_state        arrest_type                date  \n",
       "0           MD       MD  A - Marked Patrol 2018-12-31 23:56:00  \n",
       "1           MD       MD  A - Marked Patrol 2018-12-31 23:52:00  \n",
       "2           MD       MD  A - Marked Patrol 2018-12-31 23:52:00  \n",
       "3           MD       MD  A - Marked Patrol 2018-12-31 23:45:00  \n",
       "4           VA       VA  A - Marked Patrol 2018-12-31 23:44:00  "
      ]
     },
     "execution_count": 32,
     "metadata": {},
     "output_type": "execute_result"
    }
   ],
   "source": [
    "df.head()"
   ]
  },
  {
   "cell_type": "code",
   "execution_count": 21,
   "metadata": {},
   "outputs": [
    {
     "data": {
      "text/plain": [
       "BLACK          47639\n",
       "SILVER         39793\n",
       "WHITE          36791\n",
       "GRAY           28159\n",
       "RED            16180\n",
       "BLUE           15513\n",
       "GOLD            5694\n",
       "GREEN           5359\n",
       "BLUE, DARK      4483\n",
       "MAROON          3303\n",
       "TAN             3194\n",
       "BLUE, LIGHT     2455\n",
       "BEIGE           2039\n",
       "N/A             1706\n",
       "GREEN, DK       1520\n",
       "GREEN, LGT       958\n",
       "BROWN            832\n",
       "ORANGE           826\n",
       "YELLOW           692\n",
       "BRONZE           475\n",
       "PURPLE           379\n",
       "MULTICOLOR       113\n",
       "CREAM             85\n",
       "COPPER            50\n",
       "PINK              19\n",
       "CHROME            11\n",
       "CAMOUFLAGE         5\n",
       "Name: color, dtype: int64"
      ]
     },
     "execution_count": 21,
     "metadata": {},
     "output_type": "execute_result"
    }
   ],
   "source": [
    "df[\"color\"].value_counts()"
   ]
  },
  {
   "cell_type": "code",
   "execution_count": 22,
   "metadata": {},
   "outputs": [
    {
     "data": {
      "text/plain": [
       "A - Marked Patrol                         190336\n",
       "Q - Marked Laser                           13169\n",
       "B - Unmarked Patrol                         6706\n",
       "G - Marked Moving Radar (Stationary)        2058\n",
       "E - Marked Stationary Radar                 1344\n",
       "L - Motorcycle                              1153\n",
       "O - Foot Patrol                             1135\n",
       "S - License Plate Recognition                593\n",
       "M - Marked (Off-Duty)                        433\n",
       "I - Marked Moving Radar (Moving)             429\n",
       "R - Unmarked Laser                           361\n",
       "H - Unmarked Moving Radar (Stationary)       250\n",
       "J - Unmarked Moving Radar (Moving)           147\n",
       "D - Unmarked VASCAR                           47\n",
       "C - Marked VASCAR                             31\n",
       "P - Mounted Patrol                            30\n",
       "N - Unmarked (Off-Duty)                       27\n",
       "F - Unmarked Stationary Radar                 24\n",
       "Name: arrest_type, dtype: int64"
      ]
     },
     "execution_count": 22,
     "metadata": {},
     "output_type": "execute_result"
    }
   ],
   "source": [
    "df[\"arrest_type\"].value_counts()"
   ]
  },
  {
   "cell_type": "code",
   "execution_count": 23,
   "metadata": {
    "collapsed": true
   },
   "outputs": [],
   "source": [
    "import numpy as np"
   ]
  },
  {
   "cell_type": "code",
   "execution_count": 24,
   "metadata": {
    "collapsed": true
   },
   "outputs": [],
   "source": [
    "def parse_float(x):\n",
    "    try:\n",
    "        x = float(x)\n",
    "    except Exception:\n",
    "        x = 0\n",
    "    return x"
   ]
  },
  {
   "cell_type": "code",
   "execution_count": 25,
   "metadata": {
    "collapsed": true
   },
   "outputs": [],
   "source": [
    "df[\"longitude\"] = df[\"longitude\"].apply(parse_float)\n",
    "df[\"latitude\"] = df[\"latitude\"].apply(parse_float)"
   ]
  },
  {
   "cell_type": "code",
   "execution_count": 26,
   "metadata": {
    "collapsed": true
   },
   "outputs": [],
   "source": [
    "import datetime"
   ]
  },
  {
   "cell_type": "code",
   "execution_count": 27,
   "metadata": {
    "collapsed": true
   },
   "outputs": [],
   "source": [
    "def parse_full_date(row):\n",
    "    date = datetime.datetime.strptime(row[\"date_of_stop\"], \"%Y-%m-%dT%H:%M:%S\")\n",
    "    time = row[\"time_of_stop\"].split(\":\")\n",
    "    date = date.replace(hour=int(time[0]), minute = int(time[1]), second = int(time[2]))\n",
    "    return date"
   ]
  },
  {
   "cell_type": "code",
   "execution_count": 28,
   "metadata": {
    "collapsed": true
   },
   "outputs": [],
   "source": [
    "df[\"date\"] = df.apply(parse_full_date, axis=1)"
   ]
  },
  {
   "cell_type": "code",
   "execution_count": 29,
   "metadata": {
    "collapsed": true
   },
   "outputs": [],
   "source": [
    "import matplotlib.pyplot as plt\n",
    "%matplotlib inline"
   ]
  },
  {
   "cell_type": "code",
   "execution_count": 30,
   "metadata": {},
   "outputs": [
    {
     "data": {
      "text/plain": [
       "(array([ 29418.,  39330.,  35747.,  33962.,  31862.,  47954.]),\n",
       " array([ 0.,  1.,  2.,  3.,  4.,  5.,  6.]),\n",
       " <a list of 6 Patch objects>)"
      ]
     },
     "execution_count": 30,
     "metadata": {},
     "output_type": "execute_result"
    },
    {
     "data": {
      "image/png": "[encoded data removed]",
      "text/plain": [
       "<matplotlib.figure.Figure at 0x1d249088860>"
      ]
     },
     "metadata": {},
     "output_type": "display_data"
    }
   ],
   "source": [
    "plt.hist(df[\"date\"].dt.weekday, bins=6)"
   ]
  },
  {
   "cell_type": "code",
   "execution_count": 31,
   "metadata": {},
   "outputs": [
    {
     "data": {
      "text/plain": [
       "(array([ 12407.,  10010.,   7181.,   5308.,   3170.,   1898.,   3249.,\n",
       "          7849.,  10617.,  10238.,  10572.,   8685.,   7250.,   7735.,\n",
       "          7856.,   7085.,  10885.,  11499.,   9238.,   7763.,   8462.,\n",
       "         12715.,  18916.,  17685.]),\n",
       " array([  0.        ,   0.95833333,   1.91666667,   2.875     ,\n",
       "          3.83333333,   4.79166667,   5.75      ,   6.70833333,\n",
       "          7.66666667,   8.625     ,   9.58333333,  10.54166667,\n",
       "         11.5       ,  12.45833333,  13.41666667,  14.375     ,\n",
       "         15.33333333,  16.29166667,  17.25      ,  18.20833333,\n",
       "         19.16666667,  20.125     ,  21.08333333,  22.04166667,  23.        ]),\n",
       " <a list of 24 Patch objects>)"
      ]
     },
     "execution_count": 31,
     "metadata": {},
     "output_type": "execute_result"
    },
    {
     "data": {
      "image/png": "[encoded data removed]",
      "text/plain": [
       "<matplotlib.figure.Figure at 0x1d2490e3828>"
      ]
     },
     "metadata": {},
     "output_type": "display_data"
    }
   ],
   "source": [
    "plt.hist(df[\"date\"].dt.hour, bins=24)"
   ]
  },
  {
   "cell_type": "code",
   "execution_count": null,
   "metadata": {
    "collapsed": true
   },
   "outputs": [],
   "source": [
    "# For future reading:\n",
    "# - https://chrisalbon.com/#articles\n",
    "# - \n",
    "\n",
    "# soundtrack while making: https://youtu.be/4HAVJcvRQ_w"
   ]
  }
 ],
 "metadata": {
  "kernelspec": {
   "display_name": "Python 3",
   "language": "python",
   "name": "python3"
  },
  "language_info": {
   "codemirror_mode": {
    "name": "ipython",
    "version": 3
   },
   "file_extension": ".py",
   "mimetype": "text/x-python",
   "name": "python",
   "nbconvert_exporter": "python",
   "pygments_lexer": "ipython3",
   "version": "3.6.3"
  }
 },
 "nbformat": 4,
 "nbformat_minor": 2
}
